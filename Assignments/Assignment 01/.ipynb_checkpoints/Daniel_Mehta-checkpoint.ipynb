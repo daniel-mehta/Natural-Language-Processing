{
 "cells": [
  {
   "cell_type": "markdown",
   "id": "14b8fc20-0f23-4ebc-9a5d-466ef7b66d87",
   "metadata": {},
   "source": [
    "# Assignment 01\n",
    "#### Daniel Mehta"
   ]
  },
  {
   "cell_type": "markdown",
   "id": "9084f69f-8484-4d89-86c7-091bae56e614",
   "metadata": {},
   "source": [
    "## Exercise 1"
   ]
  },
  {
   "cell_type": "code",
   "execution_count": 4,
   "id": "ba789d4f-9099-4bcb-a65d-d8aa4c10c2ba",
   "metadata": {},
   "outputs": [],
   "source": [
    "import pandas as pd"
   ]
  },
  {
   "cell_type": "code",
   "execution_count": 6,
   "id": "7aafedba-b2ba-4623-aec1-2aa892fa6ba3",
   "metadata": {},
   "outputs": [],
   "source": [
    "df = pd.read_csv('tweets.csv')"
   ]
  },
  {
   "cell_type": "code",
   "execution_count": 8,
   "id": "b5258114-4f73-4976-a1fd-633b1ec1d463",
   "metadata": {},
   "outputs": [
    {
     "data": {
      "text/html": [
       "<div>\n",
       "<style scoped>\n",
       "    .dataframe tbody tr th:only-of-type {\n",
       "        vertical-align: middle;\n",
       "    }\n",
       "\n",
       "    .dataframe tbody tr th {\n",
       "        vertical-align: top;\n",
       "    }\n",
       "\n",
       "    .dataframe thead th {\n",
       "        text-align: right;\n",
       "    }\n",
       "</style>\n",
       "<table border=\"1\" class=\"dataframe\">\n",
       "  <thead>\n",
       "    <tr style=\"text-align: right;\">\n",
       "      <th></th>\n",
       "      <th>source</th>\n",
       "      <th>text</th>\n",
       "      <th>created_at</th>\n",
       "      <th>retweet_count</th>\n",
       "      <th>favorite_count</th>\n",
       "      <th>is_retweet</th>\n",
       "      <th>id_str</th>\n",
       "    </tr>\n",
       "  </thead>\n",
       "  <tbody>\n",
       "    <tr>\n",
       "      <th>0</th>\n",
       "      <td>Twitter for iPhone</td>\n",
       "      <td>LOSER! https://t.co/p5imhMJqS1</td>\n",
       "      <td>05-18-2020 14:55:14</td>\n",
       "      <td>32295</td>\n",
       "      <td>135445</td>\n",
       "      <td>False</td>\n",
       "      <td>1262396333064892416</td>\n",
       "    </tr>\n",
       "    <tr>\n",
       "      <th>1</th>\n",
       "      <td>Twitter for iPhone</td>\n",
       "      <td>Most of the money raised by the RINO losers of...</td>\n",
       "      <td>05-05-2020 18:18:26</td>\n",
       "      <td>19706</td>\n",
       "      <td>82425</td>\n",
       "      <td>False</td>\n",
       "      <td>1257736426206031874</td>\n",
       "    </tr>\n",
       "    <tr>\n",
       "      <th>2</th>\n",
       "      <td>Twitter for iPhone</td>\n",
       "      <td>....because they don’t know how to win and the...</td>\n",
       "      <td>05-05-2020 04:46:34</td>\n",
       "      <td>12665</td>\n",
       "      <td>56868</td>\n",
       "      <td>False</td>\n",
       "      <td>1257532112233803782</td>\n",
       "    </tr>\n",
       "    <tr>\n",
       "      <th>3</th>\n",
       "      <td>Twitter for iPhone</td>\n",
       "      <td>....lost for Evan “McMuffin” McMullin (to me)....</td>\n",
       "      <td>05-05-2020 04:46:34</td>\n",
       "      <td>13855</td>\n",
       "      <td>62268</td>\n",
       "      <td>False</td>\n",
       "      <td>1257532114666508291</td>\n",
       "    </tr>\n",
       "    <tr>\n",
       "      <th>4</th>\n",
       "      <td>Twitter for iPhone</td>\n",
       "      <td>....get even for all of their many failures. Y...</td>\n",
       "      <td>05-05-2020 04:46:33</td>\n",
       "      <td>8122</td>\n",
       "      <td>33261</td>\n",
       "      <td>False</td>\n",
       "      <td>1257532110971318274</td>\n",
       "    </tr>\n",
       "  </tbody>\n",
       "</table>\n",
       "</div>"
      ],
      "text/plain": [
       "               source                                               text  \\\n",
       "0  Twitter for iPhone                     LOSER! https://t.co/p5imhMJqS1   \n",
       "1  Twitter for iPhone  Most of the money raised by the RINO losers of...   \n",
       "2  Twitter for iPhone  ....because they don’t know how to win and the...   \n",
       "3  Twitter for iPhone  ....lost for Evan “McMuffin” McMullin (to me)....   \n",
       "4  Twitter for iPhone  ....get even for all of their many failures. Y...   \n",
       "\n",
       "            created_at  retweet_count  favorite_count is_retweet  \\\n",
       "0  05-18-2020 14:55:14          32295          135445      False   \n",
       "1  05-05-2020 18:18:26          19706           82425      False   \n",
       "2  05-05-2020 04:46:34          12665           56868      False   \n",
       "3  05-05-2020 04:46:34          13855           62268      False   \n",
       "4  05-05-2020 04:46:33           8122           33261      False   \n",
       "\n",
       "                id_str  \n",
       "0  1262396333064892416  \n",
       "1  1257736426206031874  \n",
       "2  1257532112233803782  \n",
       "3  1257532114666508291  \n",
       "4  1257532110971318274  "
      ]
     },
     "execution_count": 8,
     "metadata": {},
     "output_type": "execute_result"
    }
   ],
   "source": [
    "df.head()"
   ]
  },
  {
   "cell_type": "code",
   "execution_count": 28,
   "id": "65014309-c22b-4431-8053-210c09b67443",
   "metadata": {},
   "outputs": [],
   "source": [
    "import re\n",
    "import unicodedata\n",
    "import nltk\n",
    "from nltk.corpus import stopwords\n",
    "\n",
    "# add appropriate words that will be ignored in the analysis\n",
    "ADDITIONAL_STOPWORDS = ['covfefe']\n",
    "\n",
    "import matplotlib.pyplot as plt"
   ]
  },
  {
   "cell_type": "code",
   "execution_count": 30,
   "id": "ca94cc5a-bcef-48aa-a309-f92bb39a5415",
   "metadata": {},
   "outputs": [],
   "source": [
    "def basic_clean(text):\n",
    "    \"\"\"\n",
    "    A simple function to clean up the data. All the words that\n",
    "    are not designated as a stop word is then lemmatized after\n",
    "    encoding and basic regex parsing are performed.\n",
    "    \"\"\"\n",
    "    wnl = nltk.stem.WordNetLemmatizer()\n",
    "    stopwords = nltk.corpus.stopwords.words('english') + ADDITIONAL_STOPWORDS\n",
    "    text = (unicodedata.normalize('NFKD', text)\n",
    "    .encode('ascii', 'ignore')\n",
    "    .decode('utf-8', 'ignore')\n",
    "    .lower())\n",
    "    words = re.sub(r'[^\\w\\s]', '', text).split()\n",
    "    return [wnl.lemmatize(word) for word in words if word not in stopwords]"
   ]
  },
  {
   "cell_type": "code",
   "execution_count": 32,
   "id": "76123d3f-c4ab-4a23-b94c-e54902ccb06d",
   "metadata": {},
   "outputs": [],
   "source": [
    "words = basic_clean(''.join(str(df['text'].tolist())))"
   ]
  },
  {
   "cell_type": "code",
   "execution_count": 34,
   "id": "725aad5b-e9c8-487e-903c-dc5ae1b85fc9",
   "metadata": {},
   "outputs": [
    {
     "data": {
      "text/plain": [
       "['loser',\n",
       " 'httpstcop5imhmjqs1',\n",
       " 'money',\n",
       " 'raised',\n",
       " 'rino',\n",
       " 'loser',\n",
       " 'socalled',\n",
       " 'lincoln',\n",
       " 'project',\n",
       " 'go',\n",
       " 'pocket',\n",
       " 'ive',\n",
       " 'done',\n",
       " 'judge',\n",
       " 'tax',\n",
       " 'regulation',\n",
       " 'healthcare',\n",
       " 'military',\n",
       " 'vet',\n",
       " 'choice']"
      ]
     },
     "execution_count": 34,
     "metadata": {},
     "output_type": "execute_result"
    }
   ],
   "source": [
    "words[:20]"
   ]
  },
  {
   "cell_type": "markdown",
   "id": "6e1540b9-47f2-4e24-a60c-0d029d2a3dd3",
   "metadata": {},
   "source": [
    "#### N-Grams"
   ]
  },
  {
   "cell_type": "code",
   "execution_count": 39,
   "id": "772099a8-ad04-4cb0-9077-8ffc3c0191dc",
   "metadata": {},
   "outputs": [
    {
     "data": {
      "text/plain": [
       "(hater, loser)        42\n",
       "(total, loser)        32\n",
       "(loser, hater)        14\n",
       "(amp, loser)          13\n",
       "(donald, trump)       11\n",
       "(hater, amp)          11\n",
       "(separate, winner)     8\n",
       "(winner, loser)        8\n",
       "(twist, fate)          6\n",
       "(loser, happy)         6\n",
       "Name: count, dtype: int64"
      ]
     },
     "execution_count": 39,
     "metadata": {},
     "output_type": "execute_result"
    }
   ],
   "source": [
    "# bi grams\n",
    "(pd.Series(nltk.ngrams(words, 2)).value_counts())[:10]"
   ]
  },
  {
   "cell_type": "code",
   "execution_count": 41,
   "id": "65160253-c129-45b4-ac6e-189e286d7f88",
   "metadata": {},
   "outputs": [
    {
     "data": {
      "text/plain": [
       "(hater, amp, loser)             10\n",
       "(separate, winner, loser)        8\n",
       "(hater, loser, happy)            6\n",
       "(winner, loser, person)          6\n",
       "(loser, person, reacts)          6\n",
       "(person, reacts, new)            6\n",
       "(reacts, new, twist)             6\n",
       "(new, twist, fate)               6\n",
       "(everyone, including, hater)     5\n",
       "(including, hater, loser)        5\n",
       "Name: count, dtype: int64"
      ]
     },
     "execution_count": 41,
     "metadata": {},
     "output_type": "execute_result"
    }
   ],
   "source": [
    "# tri grams\n",
    "(pd.Series(nltk.ngrams(words, 3)).value_counts())[:10]"
   ]
  },
  {
   "cell_type": "code",
   "execution_count": 43,
   "id": "d1ff1610-206e-438f-9dc5-9bf69c0faaf1",
   "metadata": {},
   "outputs": [],
   "source": [
    "bigrams_series = (pd.Series(nltk.ngrams(words, 2)).value_counts())[:12]\n",
    "trigrams_series = (pd.Series(nltk.ngrams(words, 3)).value_counts())[:12]"
   ]
  },
  {
   "cell_type": "code",
   "execution_count": 47,
   "id": "83a924fe-3427-4941-9627-5322e8fdbab8",
   "metadata": {},
   "outputs": [
    {
     "data": {
      "text/plain": [
       "Text(0.5, 0, '# of Occurances')"
      ]
     },
     "execution_count": 47,
     "metadata": {},
     "output_type": "execute_result"
    },
    {
     "data": {
      "image/png": "[encoded data removed]",
      "text/plain": [
       "<Figure size 1200x800 with 1 Axes>"
      ]
     },
     "metadata": {},
     "output_type": "display_data"
    }
   ],
   "source": [
    "bigrams_series.sort_values().plot.barh(color='blue', width=.9, figsize=(12, 8))\n",
    "plt.title('20 Most Frequently Occuring Bigrams')\n",
    "plt.ylabel('Bigram')\n",
    "plt.xlabel('# of Occurances')"
   ]
  },
  {
   "cell_type": "markdown",
   "id": "48ebb376-4ebb-4871-9aac-f9b523c7b547",
   "metadata": {},
   "source": [
    "# Exercise 2"
   ]
  },
  {
   "cell_type": "markdown",
   "id": "64d844d0-4a91-4db3-b1bf-472b3196d774",
   "metadata": {},
   "source": [
    "### a) Find a new text dataset & b) Convert it into csv formatss\n",
    "\n",
    "Dataset: [Kaggle - Spam Text Message Classification](https://www.kaggle.com/datasets/team-ai/spam-text-message-classification)"
   ]
  },
  {
   "cell_type": "code",
   "execution_count": 54,
   "id": "2b7a5285-fe41-45e0-828f-5575025d1674",
   "metadata": {},
   "outputs": [
    {
     "data": {
      "text/html": [
       "<div>\n",
       "<style scoped>\n",
       "    .dataframe tbody tr th:only-of-type {\n",
       "        vertical-align: middle;\n",
       "    }\n",
       "\n",
       "    .dataframe tbody tr th {\n",
       "        vertical-align: top;\n",
       "    }\n",
       "\n",
       "    .dataframe thead th {\n",
       "        text-align: right;\n",
       "    }\n",
       "</style>\n",
       "<table border=\"1\" class=\"dataframe\">\n",
       "  <thead>\n",
       "    <tr style=\"text-align: right;\">\n",
       "      <th></th>\n",
       "      <th>Category</th>\n",
       "      <th>Message</th>\n",
       "    </tr>\n",
       "  </thead>\n",
       "  <tbody>\n",
       "    <tr>\n",
       "      <th>0</th>\n",
       "      <td>ham</td>\n",
       "      <td>Go until jurong point, crazy.. Available only ...</td>\n",
       "    </tr>\n",
       "    <tr>\n",
       "      <th>1</th>\n",
       "      <td>ham</td>\n",
       "      <td>Ok lar... Joking wif u oni...</td>\n",
       "    </tr>\n",
       "    <tr>\n",
       "      <th>2</th>\n",
       "      <td>spam</td>\n",
       "      <td>Free entry in 2 a wkly comp to win FA Cup fina...</td>\n",
       "    </tr>\n",
       "    <tr>\n",
       "      <th>3</th>\n",
       "      <td>ham</td>\n",
       "      <td>U dun say so early hor... U c already then say...</td>\n",
       "    </tr>\n",
       "    <tr>\n",
       "      <th>4</th>\n",
       "      <td>ham</td>\n",
       "      <td>Nah I don't think he goes to usf, he lives aro...</td>\n",
       "    </tr>\n",
       "  </tbody>\n",
       "</table>\n",
       "</div>"
      ],
      "text/plain": [
       "  Category                                            Message\n",
       "0      ham  Go until jurong point, crazy.. Available only ...\n",
       "1      ham                      Ok lar... Joking wif u oni...\n",
       "2     spam  Free entry in 2 a wkly comp to win FA Cup fina...\n",
       "3      ham  U dun say so early hor... U c already then say...\n",
       "4      ham  Nah I don't think he goes to usf, he lives aro..."
      ]
     },
     "execution_count": 54,
     "metadata": {},
     "output_type": "execute_result"
    }
   ],
   "source": [
    "df = pd.read_csv(\"SPAM text message 20170820 - Data.csv\")\n",
    "df.head()"
   ]
  },
  {
   "cell_type": "markdown",
   "id": "58565aef-3a12-4e52-ab98-29d711413256",
   "metadata": {},
   "source": [
    "### c) Redo the same exercise"
   ]
  },
  {
   "cell_type": "code",
   "execution_count": 66,
   "id": "9fb99231-abb8-46d0-b296-cda8ff6dc65a",
   "metadata": {},
   "outputs": [],
   "source": [
    "ADDITIONAL_STOPWORDS = ['u', 'ur', '4', '2', 'im', 'dont', 'dun']"
   ]
  },
  {
   "cell_type": "code",
   "execution_count": 74,
   "id": "01165d3b-cc35-4ff1-be66-44ddf772ee5c",
   "metadata": {},
   "outputs": [],
   "source": [
    "def basic_clean(text):\n",
    "    wnl = nltk.stem.WordNetLemmatizer()\n",
    "    stopwords = nltk.corpus.stopwords.words('english') + ADDITIONAL_STOPWORDS\n",
    "    text = (unicodedata.normalize('NFKD', text)\n",
    "    .encode('ascii', 'ignore')\n",
    "    .decode('utf-8', 'ignore')\n",
    "    .lower())\n",
    "    words = re.sub(r'[^\\w\\s]', '', text).split()\n",
    "    return [wnl.lemmatize(word) for word in words if word not in stopwords]\n",
    "    "
   ]
  },
  {
   "cell_type": "code",
   "execution_count": 76,
   "id": "3be03608-52e0-4ea1-ac1d-8d24b8f3d7aa",
   "metadata": {},
   "outputs": [
    {
     "data": {
      "text/plain": [
       "['go',\n",
       " 'jurong',\n",
       " 'point',\n",
       " 'crazy',\n",
       " 'available',\n",
       " 'bugis',\n",
       " 'n',\n",
       " 'great',\n",
       " 'world',\n",
       " 'la',\n",
       " 'e',\n",
       " 'buffet',\n",
       " 'cine',\n",
       " 'got',\n",
       " 'amore',\n",
       " 'wat',\n",
       " 'ok',\n",
       " 'lar',\n",
       " 'joking',\n",
       " 'wif']"
      ]
     },
     "execution_count": 76,
     "metadata": {},
     "output_type": "execute_result"
    }
   ],
   "source": [
    "words = basic_clean(''.join(str(df['Message'].tolist())))\n",
    "words[:20]"
   ]
  },
  {
   "cell_type": "markdown",
   "id": "b1673e26-5bfd-4065-9eba-26ba57e5d19f",
   "metadata": {},
   "source": [
    "#### N-Grams"
   ]
  },
  {
   "cell_type": "code",
   "execution_count": 80,
   "id": "b76372f9-9b11-4739-8dbb-a470c39549c5",
   "metadata": {},
   "outputs": [
    {
     "data": {
      "text/plain": [
       "(please, call)         53\n",
       "(call, later)          52\n",
       "(ill, call)            48\n",
       "(let, know)            42\n",
       "(sorry, ill)           39\n",
       "(new, year)            32\n",
       "(good, morning)        31\n",
       "(customer, service)    29\n",
       "(po, box)              28\n",
       "(take, care)           26\n",
       "Name: count, dtype: int64"
      ]
     },
     "execution_count": 80,
     "metadata": {},
     "output_type": "execute_result"
    }
   ],
   "source": [
    "# bi grams\n",
    "(pd.Series(nltk.ngrams(words, 2)).value_counts())[:10]"
   ]
  },
  {
   "cell_type": "code",
   "execution_count": 82,
   "id": "159c128b-9b86-4bbf-8bc3-f1df6192b376",
   "metadata": {},
   "outputs": [
    {
     "data": {
      "text/plain": [
       "(ill, call, later)            42\n",
       "(sorry, ill, call)            38\n",
       "(prize, guaranteed, call)     21\n",
       "(happy, new, year)            19\n",
       "(call, customer, service)     15\n",
       "(reply, call, 08000930705)    14\n",
       "(land, line, claim)           14\n",
       "(private, 2003, account)      13\n",
       "(2003, account, statement)    13\n",
       "(pls, send, message)          13\n",
       "Name: count, dtype: int64"
      ]
     },
     "execution_count": 82,
     "metadata": {},
     "output_type": "execute_result"
    }
   ],
   "source": [
    "# tri grams\n",
    "(pd.Series(nltk.ngrams(words, 3)).value_counts())[:10]"
   ]
  },
  {
   "cell_type": "code",
   "execution_count": 84,
   "id": "84e3948c-adcc-43ae-8ae3-c56d505bbd5a",
   "metadata": {},
   "outputs": [],
   "source": [
    "bigrams_series = (pd.Series(nltk.ngrams(words, 2)).value_counts())[:12]\n",
    "trigrams_series = (pd.Series(nltk.ngrams(words, 3)).value_counts())[:12]"
   ]
  },
  {
   "cell_type": "code",
   "execution_count": 102,
   "id": "55484cc1-c92a-4e65-a4ac-27cd09c5f5b6",
   "metadata": {},
   "outputs": [
    {
     "data": {
      "text/plain": [
       "Text(0.5, 0, '# of Occurances')"
      ]
     },
     "execution_count": 102,
     "metadata": {},
     "output_type": "execute_result"
    },
    {
     "data": {
      "image/png": "[encoded data removed]",
      "text/plain": [
       "<Figure size 1200x800 with 1 Axes>"
      ]
     },
     "metadata": {},
     "output_type": "display_data"
    }
   ],
   "source": [
    "bigrams_series.sort_values().plot.barh(color='peru', width=.9, figsize=(12, 8))\n",
    "plt.title('20 Most Frequently Occuring Bigrams (Spam Text Message Classification)')\n",
    "plt.ylabel('Bigram')\n",
    "plt.xlabel('# of Occurances')"
   ]
  },
  {
   "cell_type": "code",
   "execution_count": null,
   "id": "fcba6ed2-7490-4740-bb17-3b569f0d69f9",
   "metadata": {},
   "outputs": [],
   "source": []
  }
 ],
 "metadata": {
  "kernelspec": {
   "display_name": "Python (moflow)",
   "language": "python",
   "name": "moflow"
  },
  "language_info": {
   "codemirror_mode": {
    "name": "ipython",
    "version": 3
   },
   "file_extension": ".py",
   "mimetype": "text/x-python",
   "name": "python",
   "nbconvert_exporter": "python",
   "pygments_lexer": "ipython3",
   "version": "3.10.16"
  }
 },
 "nbformat": 4,
 "nbformat_minor": 5
}
