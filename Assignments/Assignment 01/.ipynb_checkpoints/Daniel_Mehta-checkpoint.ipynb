{
 "cells": [
  {
   "cell_type": "markdown",
   "id": "14b8fc20-0f23-4ebc-9a5d-466ef7b66d87",
   "metadata": {},
   "source": [
    "# Assignment 01\n",
    "## Daniel Mehta"
   ]
  },
  {
   "cell_type": "code",
   "execution_count": null,
   "id": "67bb3633-89d0-434a-b922-ff8818ce10be",
   "metadata": {},
   "outputs": [],
   "source": []
  }
 ],
 "metadata": {
  "kernelspec": {
   "display_name": "Python (moflow)",
   "language": "python",
   "name": "moflow"
  },
  "language_info": {
   "codemirror_mode": {
    "name": "ipython",
    "version": 3
   },
   "file_extension": ".py",
   "mimetype": "text/x-python",
   "name": "python",
   "nbconvert_exporter": "python",
   "pygments_lexer": "ipython3",
   "version": "3.10.16"
  }
 },
 "nbformat": 4,
 "nbformat_minor": 5
}
