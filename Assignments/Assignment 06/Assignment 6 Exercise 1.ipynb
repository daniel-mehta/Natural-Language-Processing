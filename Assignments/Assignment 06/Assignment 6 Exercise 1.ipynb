{
 "cells": [
  {
   "cell_type": "markdown",
   "id": "ce4e7241-dd4b-4872-929e-fb633989c59c",
   "metadata": {},
   "source": [
    "# Assignment 6 - Exercise 1\n",
    "### Daniel Mehta"
   ]
  },
  {
   "cell_type": "code",
   "execution_count": 1,
   "id": "625aacb3-6fe5-49d2-b597-6f9119de1cb0",
   "metadata": {},
   "outputs": [],
   "source": [
    "#imports\n",
    "import pandas as pd\n",
    "import numpy as np\n",
    "import matplotlib.pyplot as plt\n",
    "import seaborn as sns\n",
    "from sklearn.model_selection import train_test_split\n",
    "import re\n",
    "import numpy as np\n",
    "from collections import Counter\n",
    "from nltk.corpus import stopwords\n",
    "from tqdm import tqdm\n",
    "\n",
    "import torch\n",
    "from torch.utils.data import TensorDataset, DataLoader\n",
    "import torch.nn as nn"
   ]
  },
  {
   "cell_type": "code",
   "execution_count": 2,
   "id": "0c6d92b5-b42c-4056-9638-cfd74b5c5b3d",
   "metadata": {},
   "outputs": [
    {
     "name": "stderr",
     "output_type": "stream",
     "text": [
      "[nltk_data] Downloading package stopwords to\n",
      "[nltk_data]     C:\\Users\\danie\\AppData\\Roaming\\nltk_data...\n",
      "[nltk_data]   Package stopwords is already up-to-date!\n"
     ]
    },
    {
     "data": {
      "text/plain": [
       "True"
      ]
     },
     "execution_count": 2,
     "metadata": {},
     "output_type": "execute_result"
    }
   ],
   "source": [
    "# download stopwords\n",
    "import nltk\n",
    "nltk.download('stopwords')"
   ]
  },
  {
   "cell_type": "code",
   "execution_count": 3,
   "id": "b8490f47-46fe-4df2-9e3b-0d53af4038e1",
   "metadata": {},
   "outputs": [
    {
     "data": {
      "text/html": [
       "<div>\n",
       "<style scoped>\n",
       "    .dataframe tbody tr th:only-of-type {\n",
       "        vertical-align: middle;\n",
       "    }\n",
       "\n",
       "    .dataframe tbody tr th {\n",
       "        vertical-align: top;\n",
       "    }\n",
       "\n",
       "    .dataframe thead th {\n",
       "        text-align: right;\n",
       "    }\n",
       "</style>\n",
       "<table border=\"1\" class=\"dataframe\">\n",
       "  <thead>\n",
       "    <tr style=\"text-align: right;\">\n",
       "      <th></th>\n",
       "      <th>review</th>\n",
       "      <th>sentiment</th>\n",
       "    </tr>\n",
       "  </thead>\n",
       "  <tbody>\n",
       "    <tr>\n",
       "      <th>0</th>\n",
       "      <td>One of the other reviewers has mentioned that ...</td>\n",
       "      <td>positive</td>\n",
       "    </tr>\n",
       "    <tr>\n",
       "      <th>1</th>\n",
       "      <td>A wonderful little production. &lt;br /&gt;&lt;br /&gt;The...</td>\n",
       "      <td>positive</td>\n",
       "    </tr>\n",
       "    <tr>\n",
       "      <th>2</th>\n",
       "      <td>I thought this was a wonderful way to spend ti...</td>\n",
       "      <td>positive</td>\n",
       "    </tr>\n",
       "    <tr>\n",
       "      <th>3</th>\n",
       "      <td>Basically there's a family where a little boy ...</td>\n",
       "      <td>negative</td>\n",
       "    </tr>\n",
       "    <tr>\n",
       "      <th>4</th>\n",
       "      <td>Petter Mattei's \"Love in the Time of Money\" is...</td>\n",
       "      <td>positive</td>\n",
       "    </tr>\n",
       "  </tbody>\n",
       "</table>\n",
       "</div>"
      ],
      "text/plain": [
       "                                              review sentiment\n",
       "0  One of the other reviewers has mentioned that ...  positive\n",
       "1  A wonderful little production. <br /><br />The...  positive\n",
       "2  I thought this was a wonderful way to spend ti...  positive\n",
       "3  Basically there's a family where a little boy ...  negative\n",
       "4  Petter Mattei's \"Love in the Time of Money\" is...  positive"
      ]
     },
     "execution_count": 3,
     "metadata": {},
     "output_type": "execute_result"
    }
   ],
   "source": [
    "# load dataset\n",
    "file_name = 'IMDB Dataset.csv'\n",
    "df = pd.read_csv(file_name)\n",
    "df.head()"
   ]
  },
  {
   "cell_type": "code",
   "execution_count": 4,
   "id": "79926f26-26b3-4e3f-8174-12c6505a6c0f",
   "metadata": {},
   "outputs": [
    {
     "name": "stdout",
     "output_type": "stream",
     "text": [
      "train data shape: (37500,)\n",
      "test data shape: (12500,)\n"
     ]
    },
    {
     "data": {
      "image/png": "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",
      "text/plain": [
       "<Figure size 640x480 with 1 Axes>"
      ]
     },
     "metadata": {},
     "output_type": "display_data"
    }
   ],
   "source": [
    "#split data\n",
    "X,y = df['review'].values,df['sentiment'].values\n",
    "x_train,x_test,y_train,y_test = train_test_split(X,y,stratify=y)\n",
    "print(f'train data shape: {x_train.shape}')\n",
    "print(f'test data shape: {x_test.shape}')\n",
    "\n",
    "# Plot sentiment\n",
    "dd = pd.Series(y_train).value_counts()\n",
    "sns.barplot(x=np.array(['negative','positive']),y=dd.values)\n",
    "plt.show()"
   ]
  },
  {
   "cell_type": "code",
   "execution_count": 5,
   "id": "39f5dbb9-365f-48ae-b880-50c7b7922148",
   "metadata": {},
   "outputs": [],
   "source": [
    "# Text preprocessing\n",
    "\n",
    "def preprocess_string(s):\n",
    "    # Remove all non-word characters (everything except numbers and letters)\n",
    "    s = re.sub(r\"[^\\w\\s]\", '', s)\n",
    "    # Replace all runs of whitespaces with no space\n",
    "    s = re.sub(r\"\\s+\", '', s)\n",
    "    # replace digits with no space\n",
    "    s = re.sub(r\"\\d\", '', s)\n",
    "    return s\n",
    "\n",
    "\n",
    "def tokenize(x_train,y_train,x_val,y_val):\n",
    "    word_list = []\n",
    "\n",
    "    stop_words = set(stopwords.words('english'))\n",
    "    for sent in x_train:\n",
    "        for word in sent.lower().split():\n",
    "            word = preprocess_string(word)\n",
    "            if word not in stop_words and word != '':\n",
    "                word_list.append(word)\n",
    " \n",
    "    corpus = Counter(word_list)\n",
    "    # sorting on the basis of most common words\n",
    "    corpus_ = sorted(corpus,key=corpus.get,reverse=True)[:1000]\n",
    "    # creating a dict\n",
    "    onehot_dict = {w:i+1 for i,w in enumerate(corpus_)}\n",
    "   \n",
    "    # tokenize\n",
    "    final_list_train,final_list_test = [],[]\n",
    "    for sent in x_train:\n",
    "            final_list_train.append([onehot_dict[preprocess_string(word)] for word in sent.lower().split()\n",
    "                                     if preprocess_string(word) in onehot_dict.keys()])\n",
    "    for sent in x_val:\n",
    "            final_list_test.append([onehot_dict[preprocess_string(word)] for word in sent.lower().split()\n",
    "                                    if preprocess_string(word) in onehot_dict.keys()])\n",
    "           \n",
    "    encoded_train = [1 if label =='positive' else 0 for label in y_train]  \n",
    "    encoded_test = [1 if label =='positive' else 0 for label in y_val]\n",
    "    \n",
    "    # Converted to Numpy arrays with dtype=object to handle variable length sequences without padding\n",
    "    return np.array(final_list_train, dtype=object), np.array(encoded_train), np.array(final_list_test, dtype=object), np.array(encoded_test), onehot_dict\n",
    "\n",
    "\n",
    "x_train,y_train,x_test,y_test,vocab = tokenize(x_train,y_train,x_test,y_test)"
   ]
  },
  {
   "cell_type": "code",
   "execution_count": 6,
   "id": "5f72055e-f9e7-41a7-962a-3ac2129ee05f",
   "metadata": {},
   "outputs": [
    {
     "data": {
      "text/plain": [
       "<Axes: >"
      ]
     },
     "execution_count": 6,
     "metadata": {},
     "output_type": "execute_result"
    },
    {
     "data": {
      "image/png": "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",
      "text/plain": [
       "<Figure size 640x480 with 1 Axes>"
      ]
     },
     "metadata": {},
     "output_type": "display_data"
    }
   ],
   "source": [
    "rev_len = [len(i) for i in x_train]\n",
    "pd.Series(rev_len).hist()"
   ]
  },
  {
   "cell_type": "code",
   "execution_count": 7,
   "id": "21479cbf-1d8f-441b-a13d-317e58953afe",
   "metadata": {},
   "outputs": [],
   "source": [
    "def padding_(sentences, seq_len):\n",
    "    # Creating a 2D numpy array of zeros with shape\n",
    "    features = np.zeros((len(sentences), seq_len),dtype=int)\n",
    "\n",
    "    # loop through each sentence\n",
    "    for ii, review in enumerate(sentences):\n",
    "        if len(review) != 0:\n",
    "            # if the sentence is shorter than seq_len, fill from the end\n",
    "            # if the sentence is longer than seq_len, cut it short\n",
    "            features[ii, -len(review):] = np.array(review)[:seq_len]\n",
    "    return features\n",
    "\n",
    "\n",
    "# Pad training and test data to a fixed length of 500\n",
    "x_train_pad = padding_(x_train,500)\n",
    "x_test_pad = padding_(x_test,500)"
   ]
  },
  {
   "cell_type": "code",
   "execution_count": 8,
   "id": "418637fc-4706-497e-b4d4-40f4501b0712",
   "metadata": {},
   "outputs": [
    {
     "name": "stdout",
     "output_type": "stream",
     "text": [
      "Sample input size:  torch.Size([50, 500])\n",
      "Sample input: \n",
      " tensor([[  0,   0,   0,  ..., 597,  32,   2],\n",
      "        [  0,   0,   0,  ...,  14, 165,  30],\n",
      "        [  0,   0,   0,  ..., 142, 662,   2],\n",
      "        ...,\n",
      "        [  0,   0,   0,  ..., 414, 304, 612],\n",
      "        [  0,   0,   0,  ..., 710, 475, 302],\n",
      "        [  0,   0,   0,  ..., 311,  91,  42]])\n",
      "Sample output: \n",
      " tensor([1, 1, 0, 0, 1, 1, 1, 1, 1, 1, 1, 0, 0, 1, 1, 0, 1, 0, 0, 1, 0, 1, 1, 0,\n",
      "        1, 0, 0, 0, 1, 0, 1, 0, 1, 0, 0, 0, 1, 0, 0, 1, 1, 0, 0, 0, 1, 0, 0, 1,\n",
      "        1, 1])\n"
     ]
    }
   ],
   "source": [
    "# create Tensor datasets\n",
    "train_data = TensorDataset(torch.from_numpy(x_train_pad), torch.from_numpy(y_train))\n",
    "valid_data = TensorDataset(torch.from_numpy(x_test_pad), torch.from_numpy(y_test))\n",
    "\n",
    "\n",
    "# dataloaders\n",
    "batch_size = 50\n",
    "\n",
    "\n",
    "# make sure to SHUFFLE your data\n",
    "train_loader = DataLoader(train_data, shuffle=True, batch_size=batch_size)\n",
    "valid_loader = DataLoader(valid_data, shuffle=True, batch_size=batch_size)\n",
    "\n",
    "\n",
    "# obtain one batch of training data\n",
    "dataiter = iter(train_loader)\n",
    "sample_x, sample_y = next(dataiter)\n",
    "\n",
    "\n",
    "print('Sample input size: ', sample_x.size()) # batch_size, seq_length\n",
    "print('Sample input: \\n', sample_x)\n",
    "print('Sample output: \\n', sample_y)"
   ]
  },
  {
   "cell_type": "markdown",
   "id": "c32131ec-61de-4785-b054-e947f6cb1fad",
   "metadata": {},
   "source": [
    "## LSTM Model"
   ]
  },
  {
   "cell_type": "code",
   "execution_count": 9,
   "id": "8404e2b4-7bf7-4c9d-9443-97e046df467e",
   "metadata": {},
   "outputs": [],
   "source": [
    "class SentimentRNN(nn.Module):\n",
    "    def __init__(self,no_layers,vocab_size,hidden_dim,embedding_dim,drop_prob=0.5):\n",
    "        super(SentimentRNN,self).__init__()\n",
    " \n",
    "        self.output_dim = output_dim\n",
    "        self.hidden_dim = hidden_dim\n",
    " \n",
    "        self.no_layers = no_layers\n",
    "        self.vocab_size = vocab_size\n",
    "   \n",
    "        # embedding and LSTM layers\n",
    "        self.embedding = nn.Embedding(vocab_size, embedding_dim)\n",
    "       \n",
    "        #lstm\n",
    "        self.lstm = nn.LSTM(input_size=embedding_dim,hidden_size=self.hidden_dim,\n",
    "                           num_layers=no_layers, batch_first=True)\n",
    "       \n",
    "        # dropout layer\n",
    "        self.dropout = nn.Dropout(0.3)\n",
    "   \n",
    "        # linear and sigmoid layer\n",
    "        self.fc = nn.Linear(self.hidden_dim, output_dim)\n",
    "        self.sig = nn.Sigmoid()\n",
    "       \n",
    "    def forward(self,x,hidden):\n",
    "        batch_size = x.size(0)\n",
    "        # embeddings and lstm_out\n",
    "        embeds = self.embedding(x)  # shape: B x S x Feature   since batch = True\n",
    "        #print(embeds.shape)  #[50, 500, 1000]\n",
    "        lstm_out, hidden = self.lstm(embeds, hidden)\n",
    "       \n",
    "        lstm_out = lstm_out.contiguous().view(-1, self.hidden_dim)\n",
    "       \n",
    "        # dropout and fully connected layer\n",
    "        out = self.dropout(lstm_out)\n",
    "        out = self.fc(out)\n",
    "       \n",
    "        # sigmoid function\n",
    "        sig_out = self.sig(out)\n",
    "       \n",
    "        # reshape to be batch_size first\n",
    "        sig_out = sig_out.view(batch_size, -1)\n",
    "\n",
    "\n",
    "        sig_out = sig_out[:, -1] # get last batch of labels\n",
    "       \n",
    "        # return last sigmoid output and hidden state\n",
    "        return sig_out, hidden\n",
    "       \n",
    "    def init_hidden(self, batch_size):\n",
    "        ''' Initializes hidden state '''\n",
    "        # Create two new tensors with sizes n_layers x batch_size x hidden_dim,\n",
    "        # initialized to zero, for hidden state and cell state of LSTM\n",
    "        h0 = torch.zeros((self.no_layers,batch_size,self.hidden_dim)).to(device)\n",
    "        c0 = torch.zeros((self.no_layers,batch_size,self.hidden_dim)).to(device)\n",
    "        hidden = (h0,c0)\n",
    "        return hidden "
   ]
  },
  {
   "cell_type": "code",
   "execution_count": 10,
   "id": "334f99bf-5d9d-4b08-928f-5635775abe68",
   "metadata": {},
   "outputs": [
    {
     "name": "stdout",
     "output_type": "stream",
     "text": [
      "SentimentRNN(\n",
      "  (embedding): Embedding(1001, 64)\n",
      "  (lstm): LSTM(64, 256, num_layers=2, batch_first=True)\n",
      "  (dropout): Dropout(p=0.3, inplace=False)\n",
      "  (fc): Linear(in_features=256, out_features=1, bias=True)\n",
      "  (sig): Sigmoid()\n",
      ")\n",
      "cuda\n"
     ]
    }
   ],
   "source": [
    "no_layers = 2\n",
    "vocab_size = len(vocab) + 1 #extra 1 for padding\n",
    "embedding_dim = 64\n",
    "output_dim = 1\n",
    "hidden_dim = 256\n",
    "\n",
    "model = SentimentRNN(no_layers,vocab_size,hidden_dim,embedding_dim,drop_prob=0.5)\n",
    "\n",
    "#moving to cpu\n",
    "device = torch.device(\"cuda\" if torch.cuda.is_available() else \"cpu\")\n",
    "model.to(device)\n",
    "print(model)\n",
    "print(device)"
   ]
  },
  {
   "cell_type": "code",
   "execution_count": 11,
   "id": "3a00347f-45b7-467f-9c78-7776a3bcb90c",
   "metadata": {},
   "outputs": [],
   "source": [
    "# loss and optimization functions\n",
    "\n",
    "lr=0.001\n",
    "\n",
    "criterion = nn.BCELoss()\n",
    "\n",
    "optimizer = torch.optim.Adam(model.parameters(), lr=lr)\n",
    "\n",
    "# function to predict accuracy\n",
    "def acc(pred,label):\n",
    "    pred = torch.round(pred.squeeze())\n",
    "    return torch.sum(pred == label.squeeze()).item()\n"
   ]
  },
  {
   "cell_type": "markdown",
   "id": "a3d80114-e1e2-4abf-8489-d16540fed2f0",
   "metadata": {},
   "source": [
    "## Training"
   ]
  },
  {
   "cell_type": "code",
<<<<<<< Updated upstream
   "execution_count": 12,
=======
   "execution_count": 41,
>>>>>>> Stashed changes
   "id": "fcebde09-f23a-402e-bdb6-54a18fcc0adf",
   "metadata": {},
   "outputs": [
    {
<<<<<<< Updated upstream
     "name": "stdout",
     "output_type": "stream",
     "text": [
      "\n",
      "Epoch 1/5\n",
      "Training...\n"
     ]
    },
    {
     "name": "stderr",
     "output_type": "stream",
     "text": [
      "100%|██████████| 750/750 [00:31<00:00, 23.93it/s]\n"
     ]
    },
    {
     "name": "stdout",
     "output_type": "stream",
     "text": [
      "Validating...\n"
     ]
    },
    {
     "name": "stderr",
     "output_type": "stream",
     "text": [
      "100%|██████████| 250/250 [00:04<00:00, 58.82it/s]\n"
     ]
    },
    {
     "name": "stdout",
     "output_type": "stream",
     "text": [
      "\n",
      "train_loss: 0.5134  val_loss: 0.4223\n",
      "train_accuracy: 74.90%  val_accuracy: 81.00%\n",
      "Validation loss decreased (inf --> 0.422256). Saving model...\n",
      "==================================================\n",
      "\n",
      "Epoch 2/5\n",
      "Training...\n"
     ]
    },
    {
     "name": "stderr",
     "output_type": "stream",
     "text": [
      "100%|██████████| 750/750 [00:30<00:00, 24.30it/s]\n"
     ]
    },
    {
     "name": "stdout",
     "output_type": "stream",
     "text": [
      "Validating...\n"
     ]
    },
    {
     "name": "stderr",
     "output_type": "stream",
     "text": [
      "100%|██████████| 250/250 [00:04<00:00, 58.95it/s]\n"
     ]
    },
    {
     "name": "stdout",
     "output_type": "stream",
     "text": [
      "\n",
      "train_loss: 0.3961  val_loss: 0.3862\n",
      "train_accuracy: 82.79%  val_accuracy: 83.48%\n",
      "Validation loss decreased (0.422256 --> 0.386165). Saving model...\n",
      "==================================================\n",
      "\n",
      "Epoch 3/5\n",
      "Training...\n"
     ]
    },
    {
     "name": "stderr",
     "output_type": "stream",
     "text": [
      "100%|██████████| 750/750 [00:31<00:00, 23.98it/s]\n"
     ]
    },
    {
     "name": "stdout",
     "output_type": "stream",
     "text": [
      "Validating...\n"
     ]
    },
    {
     "name": "stderr",
     "output_type": "stream",
     "text": [
      "100%|██████████| 250/250 [00:04<00:00, 58.77it/s]\n"
     ]
    },
    {
     "name": "stdout",
     "output_type": "stream",
     "text": [
      "\n",
      "train_loss: 0.3552  val_loss: 0.3653\n",
      "train_accuracy: 84.78%  val_accuracy: 84.10%\n",
      "Validation loss decreased (0.386165 --> 0.365253). Saving model...\n",
      "==================================================\n",
      "\n",
      "Epoch 4/5\n",
      "Training...\n"
     ]
    },
    {
     "name": "stderr",
     "output_type": "stream",
     "text": [
      "100%|██████████| 750/750 [00:31<00:00, 24.07it/s]\n"
     ]
    },
    {
     "name": "stdout",
     "output_type": "stream",
     "text": [
      "Validating...\n"
     ]
    },
    {
     "name": "stderr",
     "output_type": "stream",
     "text": [
      "100%|██████████| 250/250 [00:04<00:00, 58.37it/s]\n"
     ]
    },
    {
     "name": "stdout",
     "output_type": "stream",
     "text": [
      "\n",
      "train_loss: 0.3381  val_loss: 0.3410\n",
      "train_accuracy: 85.32%  val_accuracy: 85.00%\n",
      "Validation loss decreased (0.365253 --> 0.341039). Saving model...\n",
      "==================================================\n",
      "\n",
      "Epoch 5/5\n",
      "Training...\n"
     ]
    },
    {
     "name": "stderr",
     "output_type": "stream",
     "text": [
      "100%|██████████| 750/750 [00:30<00:00, 24.24it/s]\n"
     ]
    },
    {
     "name": "stdout",
     "output_type": "stream",
     "text": [
      "Validating...\n"
     ]
    },
    {
     "name": "stderr",
     "output_type": "stream",
     "text": [
      "100%|██████████| 250/250 [00:04<00:00, 59.02it/s]"
     ]
    },
    {
     "name": "stdout",
     "output_type": "stream",
     "text": [
      "\n",
      "train_loss: 0.3009  val_loss: 0.3580\n",
      "train_accuracy: 87.22%  val_accuracy: 85.98%\n",
      "==================================================\n"
     ]
    },
    {
     "name": "stderr",
     "output_type": "stream",
     "text": [
      "\n"
=======
     "ename": "KeyboardInterrupt",
     "evalue": "",
     "output_type": "error",
     "traceback": [
      "\u001b[0;31m---------------------------------------------------------------------------\u001b[0m",
      "\u001b[0;31mKeyboardInterrupt\u001b[0m                         Traceback (most recent call last)",
      "Cell \u001b[0;32mIn[41], line 27\u001b[0m\n\u001b[1;32m     25\u001b[0m \u001b[38;5;66;03m# calculate the loss and perform backprop\u001b[39;00m\n\u001b[1;32m     26\u001b[0m loss \u001b[38;5;241m=\u001b[39m criterion(output\u001b[38;5;241m.\u001b[39msqueeze(), labels\u001b[38;5;241m.\u001b[39mfloat())\n\u001b[0;32m---> 27\u001b[0m \u001b[43mloss\u001b[49m\u001b[38;5;241;43m.\u001b[39;49m\u001b[43mbackward\u001b[49m\u001b[43m(\u001b[49m\u001b[43m)\u001b[49m\n\u001b[1;32m     28\u001b[0m train_losses\u001b[38;5;241m.\u001b[39mappend(loss\u001b[38;5;241m.\u001b[39mitem())\n\u001b[1;32m     29\u001b[0m \u001b[38;5;66;03m# calculating accuracy\u001b[39;00m\n",
      "File \u001b[0;32m/opt/anaconda3/envs/moflow/lib/python3.10/site-packages/torch/_tensor.py:522\u001b[0m, in \u001b[0;36mTensor.backward\u001b[0;34m(self, gradient, retain_graph, create_graph, inputs)\u001b[0m\n\u001b[1;32m    512\u001b[0m \u001b[38;5;28;01mif\u001b[39;00m has_torch_function_unary(\u001b[38;5;28mself\u001b[39m):\n\u001b[1;32m    513\u001b[0m     \u001b[38;5;28;01mreturn\u001b[39;00m handle_torch_function(\n\u001b[1;32m    514\u001b[0m         Tensor\u001b[38;5;241m.\u001b[39mbackward,\n\u001b[1;32m    515\u001b[0m         (\u001b[38;5;28mself\u001b[39m,),\n\u001b[0;32m   (...)\u001b[0m\n\u001b[1;32m    520\u001b[0m         inputs\u001b[38;5;241m=\u001b[39minputs,\n\u001b[1;32m    521\u001b[0m     )\n\u001b[0;32m--> 522\u001b[0m \u001b[43mtorch\u001b[49m\u001b[38;5;241;43m.\u001b[39;49m\u001b[43mautograd\u001b[49m\u001b[38;5;241;43m.\u001b[39;49m\u001b[43mbackward\u001b[49m\u001b[43m(\u001b[49m\n\u001b[1;32m    523\u001b[0m \u001b[43m    \u001b[49m\u001b[38;5;28;43mself\u001b[39;49m\u001b[43m,\u001b[49m\u001b[43m \u001b[49m\u001b[43mgradient\u001b[49m\u001b[43m,\u001b[49m\u001b[43m \u001b[49m\u001b[43mretain_graph\u001b[49m\u001b[43m,\u001b[49m\u001b[43m \u001b[49m\u001b[43mcreate_graph\u001b[49m\u001b[43m,\u001b[49m\u001b[43m \u001b[49m\u001b[43minputs\u001b[49m\u001b[38;5;241;43m=\u001b[39;49m\u001b[43minputs\u001b[49m\n\u001b[1;32m    524\u001b[0m \u001b[43m\u001b[49m\u001b[43m)\u001b[49m\n",
      "File \u001b[0;32m/opt/anaconda3/envs/moflow/lib/python3.10/site-packages/torch/autograd/__init__.py:266\u001b[0m, in \u001b[0;36mbackward\u001b[0;34m(tensors, grad_tensors, retain_graph, create_graph, grad_variables, inputs)\u001b[0m\n\u001b[1;32m    261\u001b[0m     retain_graph \u001b[38;5;241m=\u001b[39m create_graph\n\u001b[1;32m    263\u001b[0m \u001b[38;5;66;03m# The reason we repeat the same comment below is that\u001b[39;00m\n\u001b[1;32m    264\u001b[0m \u001b[38;5;66;03m# some Python versions print out the first line of a multi-line function\u001b[39;00m\n\u001b[1;32m    265\u001b[0m \u001b[38;5;66;03m# calls in the traceback and some print out the last line\u001b[39;00m\n\u001b[0;32m--> 266\u001b[0m \u001b[43mVariable\u001b[49m\u001b[38;5;241;43m.\u001b[39;49m\u001b[43m_execution_engine\u001b[49m\u001b[38;5;241;43m.\u001b[39;49m\u001b[43mrun_backward\u001b[49m\u001b[43m(\u001b[49m\u001b[43m  \u001b[49m\u001b[38;5;66;43;03m# Calls into the C++ engine to run the backward pass\u001b[39;49;00m\n\u001b[1;32m    267\u001b[0m \u001b[43m    \u001b[49m\u001b[43mtensors\u001b[49m\u001b[43m,\u001b[49m\n\u001b[1;32m    268\u001b[0m \u001b[43m    \u001b[49m\u001b[43mgrad_tensors_\u001b[49m\u001b[43m,\u001b[49m\n\u001b[1;32m    269\u001b[0m \u001b[43m    \u001b[49m\u001b[43mretain_graph\u001b[49m\u001b[43m,\u001b[49m\n\u001b[1;32m    270\u001b[0m \u001b[43m    \u001b[49m\u001b[43mcreate_graph\u001b[49m\u001b[43m,\u001b[49m\n\u001b[1;32m    271\u001b[0m \u001b[43m    \u001b[49m\u001b[43minputs\u001b[49m\u001b[43m,\u001b[49m\n\u001b[1;32m    272\u001b[0m \u001b[43m    \u001b[49m\u001b[43mallow_unreachable\u001b[49m\u001b[38;5;241;43m=\u001b[39;49m\u001b[38;5;28;43;01mTrue\u001b[39;49;00m\u001b[43m,\u001b[49m\n\u001b[1;32m    273\u001b[0m \u001b[43m    \u001b[49m\u001b[43maccumulate_grad\u001b[49m\u001b[38;5;241;43m=\u001b[39;49m\u001b[38;5;28;43;01mTrue\u001b[39;49;00m\u001b[43m,\u001b[49m\n\u001b[1;32m    274\u001b[0m \u001b[43m\u001b[49m\u001b[43m)\u001b[49m\n",
      "\u001b[0;31mKeyboardInterrupt\u001b[0m: "
>>>>>>> Stashed changes
     ]
    }
   ],
   "source": [
    "clip = 5\n",
    "epochs = 5\n",
    "valid_loss_min = np.inf\n",
    "\n",
    "epoch_tr_loss, epoch_vl_loss = [], []\n",
    "epoch_tr_acc, epoch_vl_acc = [], []\n",
    "\n",
    "for epoch in range(epochs):\n",
    "    train_losses = []\n",
    "    train_acc = 0.0\n",
    "    model.train()\n",
    "    h = model.init_hidden(batch_size)\n",
    "\n",
    "    print(f'\\nEpoch {epoch+1}/{epochs}')\n",
    "    print('Training...')\n",
    "    for inputs, labels in tqdm(train_loader):\n",
    "        inputs, labels = inputs.to(device), labels.to(device)\n",
    "        h = tuple([each.data for each in h])\n",
    "        \n",
    "        model.zero_grad()\n",
    "        output, h = model(inputs, h)\n",
    "\n",
    "        loss = criterion(output.squeeze(), labels.float())\n",
    "        loss.backward()\n",
    "        train_losses.append(loss.item())\n",
    "\n",
    "        accuracy = acc(output, labels)\n",
    "        train_acc += accuracy\n",
    "\n",
    "        nn.utils.clip_grad_norm_(model.parameters(), clip)\n",
    "        optimizer.step()\n",
    "\n",
    "    val_h = model.init_hidden(batch_size)\n",
    "    val_losses = []\n",
    "    val_acc = 0.0\n",
    "    model.eval()\n",
    "\n",
    "    print('Validating...')\n",
    "    for inputs, labels in tqdm(valid_loader):\n",
    "        val_h = tuple([each.data for each in val_h])\n",
    "        inputs, labels = inputs.to(device), labels.to(device)\n",
    "\n",
    "        with torch.no_grad():\n",
    "            output, val_h = model(inputs, val_h)\n",
    "            val_loss = criterion(output.squeeze(), labels.float())\n",
    "            val_losses.append(val_loss.item())\n",
    "            accuracy = acc(output, labels)\n",
    "            val_acc += accuracy\n",
    "\n",
    "    epoch_train_loss = np.mean(train_losses)\n",
    "    epoch_val_loss = np.mean(val_losses)\n",
    "    epoch_train_acc = train_acc / len(train_loader.dataset)\n",
    "    epoch_val_acc = val_acc / len(valid_loader.dataset)\n",
    "\n",
    "    epoch_tr_loss.append(epoch_train_loss)\n",
    "    epoch_vl_loss.append(epoch_val_loss)\n",
    "    epoch_tr_acc.append(epoch_train_acc)\n",
    "    epoch_vl_acc.append(epoch_val_acc)\n",
    "\n",
    "    print(f'\\ntrain_loss: {epoch_train_loss:.4f}  val_loss: {epoch_val_loss:.4f}')\n",
    "    print(f'train_accuracy: {epoch_train_acc*100:.2f}%  val_accuracy: {epoch_val_acc*100:.2f}%')\n",
    "\n",
    "    if epoch_val_loss <= valid_loss_min:\n",
    "        torch.save(model.state_dict(), 'state_dict.pt')\n",
    "        print(f'Validation loss decreased ({valid_loss_min:.6f} --> {epoch_val_loss:.6f}). Saving model...')\n",
    "        valid_loss_min = epoch_val_loss\n",
    "\n",
    "    print('==' * 25)\n"
   ]
  },
  {
   "cell_type": "code",
   "execution_count": 13,
   "id": "b3c761ca-01db-4610-8cd7-31cf57a3d943",
   "metadata": {},
   "outputs": [
    {
     "data": {
      "image/png": "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",
      "text/plain": [
       "<Figure size 2000x600 with 2 Axes>"
      ]
     },
     "metadata": {},
     "output_type": "display_data"
    }
   ],
   "source": [
    "fig = plt.figure(figsize = (20, 6))\n",
    "plt.subplot(1, 2, 1)\n",
    "plt.plot(epoch_tr_acc, label='Train Acc')\n",
    "plt.plot(epoch_vl_acc, label='Validation Acc')\n",
    "plt.title(\"Accuracy\")\n",
    "plt.legend()\n",
    "plt.grid()\n",
    "   \n",
    "plt.subplot(1, 2, 2)\n",
    "plt.plot(epoch_tr_loss, label='Train loss')\n",
    "plt.plot(epoch_vl_loss, label='Validation loss')\n",
    "plt.title(\"Loss\")\n",
    "plt.legend()\n",
    "plt.grid()\n",
    "\n",
    "\n",
    "plt.show()"
   ]
  },
  {
   "cell_type": "code",
   "execution_count": 14,
   "id": "649f5f09-06d0-4ed6-88ce-4f4dec60b518",
   "metadata": {},
   "outputs": [
    {
     "name": "stdout",
     "output_type": "stream",
     "text": [
      "Taut and organically gripping, Edward Dmytryk's Crossfire is a distinctive suspense thriller, an unlikely \"message\" movie using the look and devices of the noir cycle.<br /><br />Bivouacked in Washington, DC, a company of soldiers cope with their restlessness by hanging out in bars. Three of them end up at a stranger's apartment where Robert Ryan, drunk and belligerent, beats their host (Sam Levene) to death because he happens to be Jewish. Police detective Robert Young investigates with the help of Robert Mitchum, who's assigned to Ryan's outfit. Suspicion falls on the second of the three (George Cooper), who has vanished. Ryan slays the third buddy (Steve Brodie) to insure his silence before Young closes in.<br /><br />Abetted by a superior script by John Paxton, Dmytryk draws precise performances from his three starring Bobs. Ryan, naturally, does his prototypical Angry White Male (and to the hilt), while Mitchum underplays with his characteristic alert nonchalance (his role, however, is not central); Young may never have been better. Gloria Grahame gives her first fully-fledged rendition of the smart-mouthed, vulnerable tramp, and, as a sad sack who's leeched into her life, Paul Kelly haunts us in a small, peripheral role that he makes memorable.<br /><br />The politically engaged Dmytryk perhaps inevitably succumbs to sermonizing, but it's pretty much confined to Young's reminiscence of how his Irish grandfather died at the hands of bigots a century earlier (thus, incidentally, stretching chronology to the limit). At least there's no attempt to render an explanation, however glib, of why Ryan hates Jews (and hillbillies and...).<br /><br />Curiously, Crossfire survives even the major change wrought upon it -- the novel it's based on (Richard Brooks' The Brick Foxhole) dealt with a gay-bashing murder. But homosexuality in 1947 was still Beyond The Pale. News of the Holocaust had, however, begun to emerge from the ashes of Europe, so Hollywood felt emboldened to register its protest against anti-Semitism (the studios always quaked at the prospect of offending any potential ticket buyer).<br /><br />But while the change from homophobia to anti-Semitism works in general, the specifics don't fit so smoothly. The victim's chatting up a lonesome, drunk young soldier then inviting him back home looks odd, even though (or especially since) there's a girlfriend in tow. It raises the question whether this scenario was retained inadvertently or left in as a discreet tip-off to the original engine generating Ryan's murderous rage.\n",
      "======================================================================\n",
      "Actual sentiment is  : positive\n",
      "======================================================================\n",
      "Predicted sentiment is positive with a probability of 0.5837451219558716\n"
     ]
    }
   ],
   "source": [
    "def predict_text(text):\n",
    "        word_seq = np.array([vocab[preprocess_string(word)] for word in text.split()\n",
    "                         if preprocess_string(word) in vocab.keys()])\n",
    "        word_seq = np.expand_dims(word_seq,axis=0)\n",
    "        pad =  torch.from_numpy(padding_(word_seq,500))\n",
    "        inputs = pad.to(device)\n",
    "        batch_size = 1\n",
    "        h = model.init_hidden(batch_size)\n",
    "        h = tuple([each.data for each in h])\n",
    "        output, h = model(inputs, h)\n",
    "        return(output.item())\n",
    "\n",
    "\n",
    "index = 30\n",
    "print(df['review'][index])\n",
    "print('='*70)\n",
    "print(f'Actual sentiment is  : {df[\"sentiment\"][index]}')\n",
    "print('='*70)\n",
    "pro = predict_text(df['review'][index])\n",
    "status = \"positive\" if pro > 0.5 else \"negative\"\n",
    "pro = (1 - pro) if status == \"negative\" else pro\n",
    "print(f'Predicted sentiment is {status} with a probability of {pro}')"
   ]
  },
  {
   "cell_type": "markdown",
   "id": "26bada52",
   "metadata": {},
   "source": [
    "# Conclusion\n",
    "\n",
    "- Used the IMDB movie reviews dataset (50K samples) for binary sentiment classification (positive/negative)\n",
    "- Preprocessed text using custom tokenization and one hot encoding of the 1000 most frequent words\n",
    "- Padded sequences to a fixed length of 500 tokens\n",
    "- Built and trained an LSTM model with embedding, dropout, and a fully connected output layer\n",
    "- Achieved ~86% training accuracy and ~85% validation accuracy after 5 epochs\n",
    "- Slight rise in validation loss at the end suggests potential early overfitting\n",
    "- Model was able to correctly predict sentiment of a nuanced test review"
   ]
  }
 ],
 "metadata": {
  "kernelspec": {
   "display_name": "Python (hackathon)",
   "language": "python",
   "name": "hackathon"
  },
  "language_info": {
   "codemirror_mode": {
    "name": "ipython",
    "version": 3
   },
   "file_extension": ".py",
   "mimetype": "text/x-python",
   "name": "python",
   "nbconvert_exporter": "python",
   "pygments_lexer": "ipython3",
   "version": "3.12.11"
  }
 },
 "nbformat": 4,
 "nbformat_minor": 5
}
