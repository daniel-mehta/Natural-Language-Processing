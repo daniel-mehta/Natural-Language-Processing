{
  "cells": [
    {
      "cell_type": "markdown",
      "id": "fb98e38d-f516-4403-97e4-b717f45259f4",
      "metadata": {
        "id": "fb98e38d-f516-4403-97e4-b717f45259f4"
      },
      "source": [
        "# Assignment 3\n",
        "### Daniel Mehta"
      ]
    },
    {
      "cell_type": "markdown",
      "id": "49dfa78f-a665-4d76-98c6-625879edda3f",
      "metadata": {
        "id": "49dfa78f-a665-4d76-98c6-625879edda3f"
      },
      "source": [
        "## Exercise 1: [Beginner's Guide to Named Entity Recognition (NER) in NLTK Library - MLK - Machine Learning Knowledge](https://machinelearningknowledge.ai/beginners-guide-to-named-entity-recognition-ner-in-nltk-library-python/)"
      ]
    },
    {
      "cell_type": "code",
      "source": [
        "!pip install nltk==3.8.1"
      ],
      "metadata": {
        "id": "Bj4KPlxH7nxN",
        "outputId": "01ffef2b-2674-4308-ec70-0b47dc021af8",
        "colab": {
          "base_uri": "https://localhost:8080/"
        }
      },
      "id": "Bj4KPlxH7nxN",
      "execution_count": 1,
      "outputs": [
        {
          "output_type": "stream",
          "name": "stdout",
          "text": [
            "Requirement already satisfied: nltk==3.8.1 in /usr/local/lib/python3.11/dist-packages (3.8.1)\n",
            "Requirement already satisfied: click in /usr/local/lib/python3.11/dist-packages (from nltk==3.8.1) (8.2.1)\n",
            "Requirement already satisfied: joblib in /usr/local/lib/python3.11/dist-packages (from nltk==3.8.1) (1.5.0)\n",
            "Requirement already satisfied: regex>=2021.8.3 in /usr/local/lib/python3.11/dist-packages (from nltk==3.8.1) (2024.11.6)\n",
            "Requirement already satisfied: tqdm in /usr/local/lib/python3.11/dist-packages (from nltk==3.8.1) (4.67.1)\n"
          ]
        }
      ]
    },
    {
      "cell_type": "code",
      "execution_count": 2,
      "id": "439516ee-9188-476a-97e8-1ebdfd1a69fe",
      "metadata": {
        "id": "439516ee-9188-476a-97e8-1ebdfd1a69fe",
        "outputId": "e4e0372a-c8fa-4246-e476-e8fae3bfe3e7",
        "colab": {
          "base_uri": "https://localhost:8080/"
        }
      },
      "outputs": [
        {
          "output_type": "stream",
          "name": "stdout",
          "text": [
            "[('NASA', 'NNP'), ('awarded', 'VBD'), ('Elon', 'NNP'), ('Musk', 'NNP'), ('’', 'NNP'), ('s', 'VBD'), ('SpaceX', 'NNP'), ('a', 'DT'), ('$', '$'), ('2.9', 'CD'), ('billion', 'CD'), ('contract', 'NN'), ('to', 'TO'), ('build', 'VB'), ('the', 'DT'), ('lunar', 'NN'), ('lander', 'NN'), ('.', '.')]\n",
            "(S\n",
            "  (ORGANIZATION NASA/NNP)\n",
            "  awarded/VBD\n",
            "  (PERSON Elon/NNP Musk/NNP)\n",
            "  ’/NNP\n",
            "  s/VBD\n",
            "  (ORGANIZATION SpaceX/NNP)\n",
            "  a/DT\n",
            "  $/$\n",
            "  2.9/CD\n",
            "  billion/CD\n",
            "  contract/NN\n",
            "  to/TO\n",
            "  build/VB\n",
            "  the/DT\n",
            "  lunar/NN\n",
            "  lander/NN\n",
            "  ./.)\n"
          ]
        }
      ],
      "source": [
        "import nltk\n",
        "from nltk import word_tokenize,pos_tag\n",
        "\n",
        "text = \"NASA awarded Elon Musk’s SpaceX a $2.9 billion contract to build the lunar lander.\"\n",
        "tokens = word_tokenize(text)\n",
        "tag=pos_tag(tokens)\n",
        "print(tag)\n",
        "\n",
        "ne_tree = nltk.ne_chunk(tag)\n",
        "print(ne_tree)"
      ]
    },
    {
      "cell_type": "code",
      "execution_count": 5,
      "id": "0dd672cf-2480-4bcc-b2cc-4db78a212fea",
      "metadata": {
        "id": "0dd672cf-2480-4bcc-b2cc-4db78a212fea",
        "outputId": "132ff59c-b6e0-4c06-b24a-bacb93dc55e1",
        "colab": {
          "base_uri": "https://localhost:8080/"
        }
      },
      "outputs": [
        {
          "output_type": "stream",
          "name": "stdout",
          "text": [
            "(S\n",
            "  (PERSON Pierre/NNP)\n",
            "  (ORGANIZATION Vinken/NNP)\n",
            "  ,/,\n",
            "  61/CD\n",
            "  years/NNS\n",
            "  old/JJ\n",
            "  ,/,\n",
            "  will/MD\n",
            "  join/VB\n",
            "  the/DT\n",
            "  board/NN\n",
            "  as/IN\n",
            "  a/DT\n",
            "  nonexecutive/JJ\n",
            "  director/NN\n",
            "  Nov./NNP\n",
            "  29/CD\n",
            "  ./.)\n"
          ]
        }
      ],
      "source": [
        "sent = nltk.corpus.treebank.tagged_sents()\n",
        "print(nltk.ne_chunk(sent[0]))"
      ]
    },
    {
      "cell_type": "code",
      "source": [
        "import spacy\n",
        "nlp = spacy.load(\"en_core_web_sm\")\n",
        "\n",
        "doc = nlp(\"NASA awarded Elon Musk’s SpaceX a $2.9 billion contract to build the lunar lander.\")\n",
        "for token in doc:\n",
        "    print(token.text, token.ent_iob_, token.ent_type_)\n"
      ],
      "metadata": {
        "id": "NvElOo0k95n7",
        "outputId": "944dc82c-e0b1-4b0c-d770-3b473495156b",
        "colab": {
          "base_uri": "https://localhost:8080/"
        }
      },
      "id": "NvElOo0k95n7",
      "execution_count": 6,
      "outputs": [
        {
          "output_type": "stream",
          "name": "stdout",
          "text": [
            "NASA B ORG\n",
            "awarded O \n",
            "Elon B PERSON\n",
            "Musk I PERSON\n",
            "’s I PERSON\n",
            "SpaceX I PERSON\n",
            "a O \n",
            "$ B MONEY\n",
            "2.9 I MONEY\n",
            "billion I MONEY\n",
            "contract O \n",
            "to O \n",
            "build O \n",
            "the O \n",
            "lunar O \n",
            "lander O \n",
            ". O \n"
          ]
        }
      ]
    }
  ],
  "metadata": {
    "kernelspec": {
      "display_name": "Python 3.8 (Global)",
      "language": "python",
      "name": "python38-global"
    },
    "language_info": {
      "codemirror_mode": {
        "name": "ipython",
        "version": 3
      },
      "file_extension": ".py",
      "mimetype": "text/x-python",
      "name": "python",
      "nbconvert_exporter": "python",
      "pygments_lexer": "ipython3",
      "version": "3.8.5"
    },
    "colab": {
      "provenance": []
    }
  },
  "nbformat": 4,
  "nbformat_minor": 5
}