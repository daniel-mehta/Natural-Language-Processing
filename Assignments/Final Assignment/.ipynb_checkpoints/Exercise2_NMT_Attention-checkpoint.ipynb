{
 "cells": [
  {
   "cell_type": "markdown",
   "id": "b2958f5c-89d8-449c-b0b8-c85abdcc6a30",
   "metadata": {},
   "source": [
    "# Exercise 2\n",
    "## Neural machine translation with attention\n",
    "### By: Daniel Mehta"
   ]
  },
  {
   "cell_type": "markdown",
   "id": "510b1a81-38b7-44b4-af2c-01d7245cbebb",
   "metadata": {},
   "source": [
    "---\n",
    "\n",
    "## Imports and Config"
   ]
  },
  {
   "cell_type": "code",
   "execution_count": 6,
   "id": "c8752830-c3d1-4b09-b820-bfdf8b5496f8",
   "metadata": {},
   "outputs": [],
   "source": [
    "import os\n",
    "import re\n",
    "import random\n",
    "from pathlib import Path\n",
    "\n",
    "import torch\n",
    "from torch import nn\n",
    "from torch.utils.data import Dataset, DataLoader\n",
    "\n",
    "import numpy as np\n",
    "import matplotlib.pyplot as plt"
   ]
  },
  {
   "cell_type": "code",
   "execution_count": 4,
   "id": "e73e25d9-56aa-4021-8aa3-0ba43834733c",
   "metadata": {},
   "outputs": [],
   "source": [
    "# Setting up seed\n",
    "SEED = 5501\n",
    "random.seed(SEED)\n",
    "np.random.seed(SEED)\n",
    "torch.manual_seed(SEED)\n",
    "torch.cuda.manual_seed(SEED)"
   ]
  },
  {
   "cell_type": "code",
   "execution_count": 5,
   "id": "77bed902-4410-45db-ba9b-c42d046bbbae",
   "metadata": {},
   "outputs": [
    {
     "name": "stdout",
     "output_type": "stream",
     "text": [
      "Using device: cuda\n"
     ]
    }
   ],
   "source": [
    "# setting device\n",
    "DEVICE = torch.device(\"cuda\" if torch.cuda.is_available() else \"cpu\")\n",
    "print(f\"Using device: {DEVICE}\")"
   ]
  },
  {
   "cell_type": "markdown",
   "id": "76489bd6-9d9d-4bf3-938b-13096d5fee09",
   "metadata": {},
   "source": [
    "---\n",
    "\n",
    "## Dataset Path Setup"
   ]
  },
  {
   "cell_type": "code",
   "execution_count": 7,
   "id": "cc156b12-e9ba-4e8f-a908-205009784407",
   "metadata": {},
   "outputs": [],
   "source": [
    "# setting path to dataset\n",
    "data_dir = Path(\"spa-eng\")\n",
    "data_path = data_dir / \"spa.txt\""
   ]
  },
  {
   "cell_type": "code",
   "execution_count": 8,
   "id": "780ef227-87f6-4cbc-9ced-e546cb7ce148",
   "metadata": {},
   "outputs": [
    {
     "name": "stdout",
     "output_type": "stream",
     "text": [
      "Dataset located at: spa-eng\\spa.txt\n"
     ]
    }
   ],
   "source": [
    "if not data_path.exists():\n",
    "    raise FileNotFoundError(f\"Dataset not found at {data_path}\")\n",
    "print(f\"Dataset located at: {data_path}\")"
   ]
  },
  {
   "cell_type": "markdown",
   "id": "6af606eb-07c1-447d-b2c8-1df3b1275a22",
   "metadata": {},
   "source": [
    "---\n",
    "\n",
    "## Data Exploration and Cleaning"
   ]
  },
  {
   "cell_type": "code",
   "execution_count": 10,
   "id": "03d6e9ba-1918-4402-9589-c542bafa350a",
   "metadata": {},
   "outputs": [],
   "source": [
    "# reading the file and split into lines\n",
    "with open(data_path, \"r\", encoding=\"utf-8\") as f:\n",
    "    lines = f.read().strip().split(\"\\n\")"
   ]
  },
  {
   "cell_type": "code",
   "execution_count": 11,
   "id": "52ca9c00-a792-497c-8576-d190c043702d",
   "metadata": {},
   "outputs": [
    {
     "name": "stdout",
     "output_type": "stream",
     "text": [
      "Total sentence pairs in file: 142511\n",
      "Sample lines:\n",
      "Go.\tVe.\tCC-BY 2.0 (France) Attribution: tatoeba.org #2877272 (CM) & #4986655 (cueyayotl)\n",
      "Go.\tVete.\tCC-BY 2.0 (France) Attribution: tatoeba.org #2877272 (CM) & #4986656 (cueyayotl)\n",
      "Go.\tVaya.\tCC-BY 2.0 (France) Attribution: tatoeba.org #2877272 (CM) & #4986657 (cueyayotl)\n",
      "Go.\tVáyase.\tCC-BY 2.0 (France) Attribution: tatoeba.org #2877272 (CM) & #6586271 (arh)\n",
      "Hi.\tHola.\tCC-BY 2.0 (France) Attribution: tatoeba.org #538123 (CM) & #431975 (Leono)\n"
     ]
    }
   ],
   "source": [
    "print(f\"Total sentence pairs in file: {len(lines)}\")\n",
    "print(\"Sample lines:\")\n",
    "for i in range(5):\n",
    "    print(lines[i])"
   ]
  },
  {
   "cell_type": "code",
   "execution_count": 12,
   "id": "15a78ea1-9da5-48cb-b27c-b5922ac18de2",
   "metadata": {},
   "outputs": [
    {
     "name": "stdout",
     "output_type": "stream",
     "text": [
      "\n",
      "Example pair:\n",
      "EN: Go.\n",
      "ES: Ve.\n"
     ]
    }
   ],
   "source": [
    "#Separating into English and Spanish\n",
    "pairs = [line.split(\"\\t\") for line in lines]\n",
    "english_sentences = [pair[0] for pair in pairs] #English (target)\n",
    "spanish_sentences = [pair[1] for pair in pairs] #Spanish (source)\n",
    "\n",
    "print(\"\\nExample pair:\")\n",
    "print(\"EN:\", english_sentences[0])\n",
    "print(\"ES:\", spanish_sentences[0])"
   ]
  },
  {
   "cell_type": "markdown",
   "id": "78cd0046-cdd1-4b98-8de2-ec3bdc5a325d",
   "metadata": {},
   "source": [
    "---\n",
    "\n",
    "## Tokenization & vocab building"
   ]
  },
  {
   "cell_type": "code",
   "execution_count": null,
   "id": "03d1b6e5-4478-47b9-8f8a-822b6bb378b8",
   "metadata": {},
   "outputs": [],
   "source": []
  }
 ],
 "metadata": {
  "kernelspec": {
   "display_name": "Python 3 (ipykernel)",
   "language": "python",
   "name": "python3"
  },
  "language_info": {
   "codemirror_mode": {
    "name": "ipython",
    "version": 3
   },
   "file_extension": ".py",
   "mimetype": "text/x-python",
   "name": "python",
   "nbconvert_exporter": "python",
   "pygments_lexer": "ipython3",
   "version": "3.10.11"
  }
 },
 "nbformat": 4,
 "nbformat_minor": 5
}
