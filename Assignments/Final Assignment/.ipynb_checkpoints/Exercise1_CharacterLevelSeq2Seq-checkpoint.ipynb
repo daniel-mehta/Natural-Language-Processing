{
 "cells": [
  {
   "cell_type": "markdown",
   "id": "68d74f65-0f40-472f-a8a3-6637a5103574",
   "metadata": {},
   "source": [
    "# Exercise 1\n",
    "## Character-level recurrent sequence-to-sequence model\n",
    "### By: Daniel Mehta"
   ]
  },
  {
   "cell_type": "code",
   "execution_count": null,
   "id": "ef468dcb-2b34-41c0-a028-6a83b82f5433",
   "metadata": {},
   "outputs": [],
   "source": []
  }
 ],
 "metadata": {
  "kernelspec": {
   "display_name": "Python 3 (ipykernel)",
   "language": "python",
   "name": "python3"
  },
  "language_info": {
   "codemirror_mode": {
    "name": "ipython",
    "version": 3
   },
   "file_extension": ".py",
   "mimetype": "text/x-python",
   "name": "python",
   "nbconvert_exporter": "python",
   "pygments_lexer": "ipython3",
   "version": "3.10.11"
  }
 },
 "nbformat": 4,
 "nbformat_minor": 5
}
