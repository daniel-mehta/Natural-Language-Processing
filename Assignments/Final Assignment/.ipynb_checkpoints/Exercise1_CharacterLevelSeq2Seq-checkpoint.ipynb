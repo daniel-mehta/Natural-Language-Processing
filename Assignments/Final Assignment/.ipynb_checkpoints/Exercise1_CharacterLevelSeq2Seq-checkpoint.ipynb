{
 "cells": [
  {
   "cell_type": "markdown",
   "id": "68d74f65-0f40-472f-a8a3-6637a5103574",
   "metadata": {},
   "source": [
    "# Exercise 1\n",
    "## Character-level recurrent sequence-to-sequence model\n",
    "### By: Daniel Mehta"
   ]
  },
  {
   "cell_type": "markdown",
   "id": "fd480e8f-58d7-45e3-8595-41501657d44f",
   "metadata": {},
   "source": [
    "---\n",
    "\n",
    "## Inports"
   ]
  },
  {
   "cell_type": "code",
   "execution_count": 5,
   "id": "fc9fa93b-0b31-4452-9a4d-eabd6bf0a0ff",
   "metadata": {},
   "outputs": [],
   "source": [
    "import numpy as np\n",
    "import os\n",
    "from pathlib import Path"
   ]
  },
  {
   "cell_type": "markdown",
   "id": "44b804f7-a741-499f-aff0-75c0e7665e3e",
   "metadata": {},
   "source": [
    "---\n",
    "\n",
    "## Dataset Path Setup"
   ]
  },
  {
   "cell_type": "code",
   "execution_count": 6,
   "id": "895960e1-941f-48fd-bdbb-62d2545b8ded",
   "metadata": {},
   "outputs": [],
   "source": [
    "# setting path to dataset\n",
    "data_dir = Path(\"fra-eng\")\n",
    "data_path = data_dir/\"fra.txt\""
   ]
  },
  {
   "cell_type": "code",
   "execution_count": 7,
   "id": "e8ef6fba-3d0d-495b-8e1e-f2da1ae665ca",
   "metadata": {},
   "outputs": [
    {
     "name": "stdout",
     "output_type": "stream",
     "text": [
      "Dataset located at: fra-eng\\fra.txt\n"
     ]
    }
   ],
   "source": [
    "if not data_path.exists():\n",
    "    raise FileNotFoundError(f\"Dataset not found at {data_path}\")\n",
    "\n",
    "print(f\"Dataset located at: {data_path}\")"
   ]
  },
  {
   "cell_type": "markdown",
   "id": "2770d912-8a17-4fd4-adcf-30373b0260ae",
   "metadata": {},
   "source": [
    "---\n",
    "\n",
    "## Data Exploration and Cleaning"
   ]
  },
  {
   "cell_type": "code",
   "execution_count": 8,
   "id": "76d88e59-16c9-40e4-b762-5fb350b61919",
   "metadata": {},
   "outputs": [],
   "source": [
    "# Reading the file and split into lines\n",
    "with open(data_path,\"r\", encoding=\"utf-8\") as f:\n",
    "    lines = f.read().strip().split(\"\\n\")"
   ]
  },
  {
   "cell_type": "code",
   "execution_count": 9,
   "id": "f60c51ae-6f7b-462c-b125-43ef68763452",
   "metadata": {},
   "outputs": [
    {
     "name": "stdout",
     "output_type": "stream",
     "text": [
      "Total sentence pairs in file: 237838\n",
      "Sample lines:\n",
      "Go.\tVa !\tCC-BY 2.0 (France) Attribution: tatoeba.org #2877272 (CM) & #1158250 (Wittydev)\n",
      "Go.\tMarche.\tCC-BY 2.0 (France) Attribution: tatoeba.org #2877272 (CM) & #8090732 (Micsmithel)\n",
      "Go.\tEn route !\tCC-BY 2.0 (France) Attribution: tatoeba.org #2877272 (CM) & #8267435 (felix63)\n",
      "Go.\tBouge !\tCC-BY 2.0 (France) Attribution: tatoeba.org #2877272 (CM) & #9022935 (Micsmithel)\n",
      "Hi.\tSalut !\tCC-BY 2.0 (France) Attribution: tatoeba.org #538123 (CM) & #509819 (Aiji)\n"
     ]
    }
   ],
   "source": [
    "print(f\"Total sentence pairs in file: {len(lines)}\")\n",
    "print(\"Sample lines:\")\n",
    "for i in range(5):\n",
    "    print(lines[i])"
   ]
  },
  {
   "cell_type": "code",
   "execution_count": 10,
   "id": "68341922-7148-4bac-a3e7-027524f41cb6",
   "metadata": {},
   "outputs": [],
   "source": [
    "# Separating into English and French\n",
    "pairs =[line.split(\"\\t\") for line in lines]\n",
    "english_sentences =[pair[0] for pair in pairs]\n",
    "french_sentences =[pair[1] for pair in pairs]"
   ]
  },
  {
   "cell_type": "code",
   "execution_count": 11,
   "id": "1045d875-c896-4d97-9167-4705e10e060f",
   "metadata": {},
   "outputs": [
    {
     "name": "stdout",
     "output_type": "stream",
     "text": [
      "\n",
      "Example pair:\n",
      "EN: Go.\n",
      "FR: Va !\n"
     ]
    }
   ],
   "source": [
    "print(\"\\nExample pair:\")\n",
    "print(\"EN:\",english_sentences[0])\n",
    "print(\"FR:\",french_sentences[0])"
   ]
  },
  {
   "cell_type": "code",
   "execution_count": null,
   "id": "4aff13b5-17ef-408f-8084-73cc306cc6a1",
   "metadata": {},
   "outputs": [],
   "source": []
  }
 ],
 "metadata": {
  "kernelspec": {
   "display_name": "Python 3 (ipykernel)",
   "language": "python",
   "name": "python3"
  },
  "language_info": {
   "codemirror_mode": {
    "name": "ipython",
    "version": 3
   },
   "file_extension": ".py",
   "mimetype": "text/x-python",
   "name": "python",
   "nbconvert_exporter": "python",
   "pygments_lexer": "ipython3",
   "version": "3.10.11"
  }
 },
 "nbformat": 4,
 "nbformat_minor": 5
}
