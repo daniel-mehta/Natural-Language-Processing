{
 "cells": [
  {
   "cell_type": "markdown",
   "id": "68d74f65-0f40-472f-a8a3-6637a5103574",
   "metadata": {},
   "source": [
    "# Exercise 1\n",
    "## Character-level recurrent sequence-to-sequence model\n",
    "### By: Daniel Mehta"
   ]
  },
  {
   "cell_type": "markdown",
   "id": "fd480e8f-58d7-45e3-8595-41501657d44f",
   "metadata": {},
   "source": [
    "---\n",
    "\n",
    "## Inports"
   ]
  },
  {
   "cell_type": "code",
   "execution_count": 1,
   "id": "fc9fa93b-0b31-4452-9a4d-eabd6bf0a0ff",
   "metadata": {},
   "outputs": [],
   "source": [
    "import numpy as np\n",
    "import os\n",
    "from pathlib import Path\n",
    "import random\n",
    "import torch\n",
    "import torch.nn as nn\n",
    "from torch.utils.data import DataLoader\n",
    "from torch.nn.utils.rnn import pad_sequence\n",
    "\n",
    "from tqdm import tqdm"
   ]
  },
  {
   "cell_type": "markdown",
   "id": "44b804f7-a741-499f-aff0-75c0e7665e3e",
   "metadata": {},
   "source": [
    "---\n",
    "\n",
    "## Dataset Path Setup"
   ]
  },
  {
   "cell_type": "code",
   "execution_count": 2,
   "id": "895960e1-941f-48fd-bdbb-62d2545b8ded",
   "metadata": {},
   "outputs": [],
   "source": [
    "# setting path to dataset\n",
    "data_dir = Path(\"fra-eng\")\n",
    "data_path = data_dir/\"fra.txt\""
   ]
  },
  {
   "cell_type": "code",
   "execution_count": 3,
   "id": "e8ef6fba-3d0d-495b-8e1e-f2da1ae665ca",
   "metadata": {},
   "outputs": [
    {
     "name": "stdout",
     "output_type": "stream",
     "text": [
      "Dataset located at: fra-eng\\fra.txt\n"
     ]
    }
   ],
   "source": [
    "if not data_path.exists():\n",
    "    raise FileNotFoundError(f\"Dataset not found at {data_path}\")\n",
    "\n",
    "print(f\"Dataset located at: {data_path}\")"
   ]
  },
  {
   "cell_type": "markdown",
   "id": "2770d912-8a17-4fd4-adcf-30373b0260ae",
   "metadata": {},
   "source": [
    "---\n",
    "\n",
    "## Data Exploration and Cleaning"
   ]
  },
  {
   "cell_type": "code",
   "execution_count": 4,
   "id": "76d88e59-16c9-40e4-b762-5fb350b61919",
   "metadata": {},
   "outputs": [],
   "source": [
    "# Reading the file and split into lines\n",
    "with open(data_path,\"r\",encoding=\"utf-8\") as f:\n",
    "    lines = f.read().strip().split(\"\\n\")"
   ]
  },
  {
   "cell_type": "code",
   "execution_count": 5,
   "id": "f60c51ae-6f7b-462c-b125-43ef68763452",
   "metadata": {},
   "outputs": [
    {
     "name": "stdout",
     "output_type": "stream",
     "text": [
      "Total sentence pairs in file: 237838\n",
      "Sample lines:\n",
      "Go.\tVa !\tCC-BY 2.0 (France) Attribution: tatoeba.org #2877272 (CM) & #1158250 (Wittydev)\n",
      "Go.\tMarche.\tCC-BY 2.0 (France) Attribution: tatoeba.org #2877272 (CM) & #8090732 (Micsmithel)\n",
      "Go.\tEn route !\tCC-BY 2.0 (France) Attribution: tatoeba.org #2877272 (CM) & #8267435 (felix63)\n",
      "Go.\tBouge !\tCC-BY 2.0 (France) Attribution: tatoeba.org #2877272 (CM) & #9022935 (Micsmithel)\n",
      "Hi.\tSalut !\tCC-BY 2.0 (France) Attribution: tatoeba.org #538123 (CM) & #509819 (Aiji)\n"
     ]
    }
   ],
   "source": [
    "print(f\"Total sentence pairs in file: {len(lines)}\")\n",
    "print(\"Sample lines:\")\n",
    "for i in range(5):\n",
    "    print(lines[i])"
   ]
  },
  {
   "cell_type": "code",
   "execution_count": 6,
   "id": "68341922-7148-4bac-a3e7-027524f41cb6",
   "metadata": {},
   "outputs": [],
   "source": [
    "# Separating into English and French\n",
    "pairs =[line.split(\"\\t\") for line in lines]\n",
    "english_sentences =[pair[0] for pair in pairs]\n",
    "french_sentences =[pair[1] for pair in pairs]"
   ]
  },
  {
   "cell_type": "code",
   "execution_count": 7,
   "id": "1045d875-c896-4d97-9167-4705e10e060f",
   "metadata": {},
   "outputs": [
    {
     "name": "stdout",
     "output_type": "stream",
     "text": [
      "\n",
      "Example pair:\n",
      "EN: Go.\n",
      "FR: Va !\n"
     ]
    }
   ],
   "source": [
    "print(\"\\nExample pair:\")\n",
    "print(\"EN:\",english_sentences[0])\n",
    "print(\"FR:\",french_sentences[0])"
   ]
  },
  {
   "cell_type": "markdown",
   "id": "e25bcd2e-93b9-448c-9d70-b724f6bf63f5",
   "metadata": {},
   "source": [
    "---\n",
    "\n",
    "## Configuration"
   ]
  },
  {
   "cell_type": "code",
   "execution_count": 8,
   "id": "c13eb557-9067-415f-b9ed-c54f776033b0",
   "metadata": {},
   "outputs": [],
   "source": [
    "# setting up seed\n",
    "SEED = 5501\n",
    "random.seed(SEED)\n",
    "np.random.seed(SEED)\n",
    "torch.manual_seed(SEED)\n",
    "\n",
    "if torch.cuda.is_available():\n",
    "    torch.cuda.manual_seed_all(SEED)"
   ]
  },
  {
   "cell_type": "code",
   "execution_count": 9,
   "id": "13c72848-39b2-420f-aaa2-bc61dcf13be1",
   "metadata": {},
   "outputs": [],
   "source": [
    "# Settubg yo start and end tokens\n",
    "START_TOKEN=\"\\t\"\n",
    "END_TOKEN=\"\\n\""
   ]
  },
  {
   "cell_type": "code",
   "execution_count": 10,
   "id": "aec7b844-6f15-4278-8430-0696a6887152",
   "metadata": {},
   "outputs": [
    {
     "name": "stdout",
     "output_type": "stream",
     "text": [
      "batch_size=64, epochs=100, latent_dim=256, num_samples=10000\n",
      "Decoder tokens -> start: '\\t', end: '\\n'\n"
     ]
    }
   ],
   "source": [
    "#  hyperparameters\n",
    "batch_size = 64 # Batch size\n",
    "epochs =100 # epochs of training\n",
    "latent_dim = 256 #Latent dimensionality of the encoding space\n",
    "num_samples = 10000  # Num of samples\n",
    "\n",
    "print(f\"batch_size={batch_size}, epochs={epochs}, latent_dim={latent_dim}, num_samples={num_samples}\")\n",
    "print(f\"Decoder tokens -> start: {repr(START_TOKEN)}, end: {repr(END_TOKEN)}\")"
   ]
  },
  {
   "cell_type": "code",
   "execution_count": 11,
   "id": "41096a96-875c-4369-b574-27a4c3dd9894",
   "metadata": {},
   "outputs": [
    {
     "name": "stdout",
     "output_type": "stream",
     "text": [
      "PyTorch version: 2.7.1+cu118\n",
      "CUDA available: True\n",
      "GPU: NVIDIA GeForce RTX 4060\n"
     ]
    }
   ],
   "source": [
    "# Device\n",
    "device = torch.device(\"cuda\" if torch.cuda.is_available() else \"cpu\")\n",
    "print(\"PyTorch version:\",torch.__version__)\n",
    "print(\"CUDA available:\",torch.cuda.is_available())\n",
    "if torch.cuda.is_available():\n",
    "    print(\"GPU:\", torch.cuda.get_device_name(0))"
   ]
  },
  {
   "cell_type": "code",
   "execution_count": 12,
   "id": "262344ce-634f-4e78-bef3-0d82c0114f92",
   "metadata": {},
   "outputs": [
    {
     "name": "stdout",
     "output_type": "stream",
     "text": [
      "Input vocab size: 90\n",
      "Target vocab size: 113\n"
     ]
    }
   ],
   "source": [
    "# Building vocabularies\n",
    "\n",
    "#  sorted unique characters for each language\n",
    "input_characters = sorted(list(set(\"\".join(english_sentences))))\n",
    "target_characters = sorted(list(set(\"\".join(french_sentences))))\n",
    "\n",
    "#mapping dicts\n",
    "input_char_to_idx ={char: idx for idx, char in enumerate(input_characters)}\n",
    "input_idx_to_char ={idx: char for char, idx in input_char_to_idx.items()}\n",
    "\n",
    "target_char_to_idx ={char: idx for idx, char in enumerate(target_characters)}\n",
    "target_idx_to_char ={idx: char for char, idx in target_char_to_idx.items()}\n",
    "\n",
    "# vocabulary sizes\n",
    "input_vocab_size = len(input_characters)\n",
    "target_vocab_size = len(target_characters)\n",
    "\n",
    "print(f\"Input vocab size: {input_vocab_size}\")\n",
    "print(f\"Target vocab size: {target_vocab_size}\")"
   ]
  },
  {
   "cell_type": "code",
   "execution_count": 13,
   "id": "319b986c-a6ce-4e6c-ab65-3f41aed86952",
   "metadata": {},
   "outputs": [],
   "source": [
    "# Add start/end tokens to french\n",
    "french_sentences = [START_TOKEN+s+END_TOKEN for s in french_sentences]\n",
    "\n",
    "# Limit samples\n",
    "english_sentences = english_sentences[:num_samples]\n",
    "french_sentences = french_sentences[:num_samples]"
   ]
  },
  {
   "cell_type": "code",
   "execution_count": 14,
   "id": "34e37714-97ce-47b0-87bc-798ed01f9257",
   "metadata": {},
   "outputs": [],
   "source": [
    "# Getting the sorted unique characters\n",
    "input_characters = sorted(list(set(\"\".join(english_sentences))))\n",
    "target_characters = sorted(list(set(\"\".join(french_sentences))))"
   ]
  },
  {
   "cell_type": "code",
   "execution_count": 15,
   "id": "4dad5c8e-1a50-46f0-a137-bbf388b5da0a",
   "metadata": {},
   "outputs": [],
   "source": [
    "# Map char to index\n",
    "input_char_to_idx = {char: idx for idx,char in enumerate(input_characters)}\n",
    "input_idx_to_char = {idx: char for char,idx in input_char_to_idx.items()}\n",
    "\n",
    "target_char_to_idx = {char: idx for idx,char in enumerate(target_characters)}\n",
    "target_idx_to_char = {idx: char for char,idx in target_char_to_idx.items()}"
   ]
  },
  {
   "cell_type": "code",
   "execution_count": 16,
   "id": "d666d5f1-bee5-40f6-aab1-1e3ba1b38770",
   "metadata": {},
   "outputs": [
    {
     "name": "stdout",
     "output_type": "stream",
     "text": [
      "Input vocab size: 70\n",
      "Target vocab size: 91\n"
     ]
    }
   ],
   "source": [
    "# Vocabulary sizes\n",
    "input_vocab_size =len(input_characters)\n",
    "target_vocab_size =len(target_characters)\n",
    "\n",
    "print(f\"Input vocab size: {input_vocab_size}\")\n",
    "print(f\"Target vocab size: {target_vocab_size}\")"
   ]
  },
  {
   "cell_type": "code",
   "execution_count": 17,
   "id": "ab7c5d09-7571-4f4d-8677-e73d18f96b88",
   "metadata": {},
   "outputs": [
    {
     "name": "stdout",
     "output_type": "stream",
     "text": [
      "Batches in train_dataloader: 157\n"
     ]
    }
   ],
   "source": [
    "# Convertting to index tensors\n",
    "src_tensors = [torch.tensor([input_char_to_idx[ch] for ch in s],dtype=torch.long) \n",
    "               for s in english_sentences]\n",
    "tgt_input_tensors = [torch.tensor([target_char_to_idx[ch] for ch in s[:-1]],dtype=torch.long) \n",
    "                     for s in french_sentences]\n",
    "tgt_target_tensors = [torch.tensor([target_char_to_idx[ch] for ch in s[1:]],dtype=torch.long) \n",
    "                      for s in french_sentences]\n",
    "\n",
    "# Pad sequences, 0 will be pad index\n",
    "src_tensors=pad_sequence(src_tensors, batch_first=True,padding_value=0)\n",
    "tgt_input_tensors=pad_sequence(tgt_input_tensors, batch_first=True,padding_value=0)\n",
    "tgt_target_tensors=pad_sequence(tgt_target_tensors, batch_first=True,padding_value=0)\n",
    "\n",
    "# Create Dataloader\n",
    "dataset = list(zip(src_tensors,tgt_input_tensors,tgt_target_tensors))\n",
    "train_dataloader =DataLoader(dataset,batch_size=batch_size,shuffle=True)\n",
    "\n",
    "print(f\"Batches in train_dataloader: {len(train_dataloader)}\")"
   ]
  },
  {
   "cell_type": "markdown",
   "id": "d3316d23-94cf-4913-85f4-78e47f300b8e",
   "metadata": {},
   "source": [
    "---\n",
    "\n",
    "## Building the model"
   ]
  },
  {
   "cell_type": "code",
   "execution_count": 18,
   "id": "710773a4-60ec-46b8-84c9-da0c8ce56644",
   "metadata": {},
   "outputs": [
    {
     "name": "stdout",
     "output_type": "stream",
     "text": [
      "Seq2Seq(\n",
      "  (encoder): Encoder(\n",
      "    (embedding): Embedding(70, 128)\n",
      "    (lstm): LSTM(128, 256, batch_first=True)\n",
      "  )\n",
      "  (decoder): Decoder(\n",
      "    (embedding): Embedding(91, 128)\n",
      "    (lstm): LSTM(128, 256, batch_first=True)\n",
      "    (fc_out): Linear(in_features=256, out_features=91, bias=True)\n",
      "  )\n",
      ")\n"
     ]
    }
   ],
   "source": [
    "embed_dim = 128 # it must be smaller or equal to the latent dim\n",
    "\n",
    "class Encoder(nn.Module):\n",
    "    def __init__(self, input_vocab_size, embed_dim,latent_dim):\n",
    "        super().__init__()\n",
    "        self.embedding = nn.Embedding(input_vocab_size, embed_dim)\n",
    "        self.lstm = nn.LSTM(\n",
    "            input_size=embed_dim,\n",
    "            hidden_size=latent_dim,\n",
    "            num_layers=1,\n",
    "            batch_first=True\n",
    "        )\n",
    "\n",
    "\n",
    "    def forward(self, src_idxs):\n",
    "        # src_idxs:(batch, src_len)\n",
    "        embedded =self.embedding(src_idxs) # (batch, src_len, embed_dim)\n",
    "        outputs,(h,c) =self.lstm(embedded) #outputs not used,keep states\n",
    "        return h,c\n",
    "\n",
    "class Decoder(nn.Module):\n",
    "    def __init__(self, target_vocab_size, embed_dim,latent_dim):\n",
    "        super().__init__()\n",
    "        self.embedding =nn.Embedding(target_vocab_size,embed_dim)\n",
    "        self.lstm = nn.LSTM(\n",
    "            input_size=embed_dim,\n",
    "            hidden_size=latent_dim,\n",
    "            num_layers=1,\n",
    "            batch_first=True\n",
    "        )\n",
    "        self.fc_out =nn.Linear(latent_dim,target_vocab_size)\n",
    "        \n",
    "    def forward(self, tgt_idxs, hidden, cell):\n",
    "        # tgt_idxs:(batch, tgt_len) with teacher forcing\n",
    "        embedded = self.embedding(tgt_idxs)# (batch, tgt_len,embed_dim)\n",
    "        outputs, (h,c) = self.lstm(embedded, (hidden,cell))\n",
    "        logits = self.fc_out(outputs)#(batch, tgt_len, target_vocab_size)\n",
    "        return logits, h,c\n",
    "\n",
    "\n",
    "class Seq2Seq(nn.Module):\n",
    "    def __init__(self, encoder, decoder):\n",
    "        super().__init__()\n",
    "        self.encoder =encoder\n",
    "        self.decoder =decoder\n",
    "\n",
    "    def forward(self, src_idxs, tgt_input_idxs):\n",
    "        # training forward pass with teacher forcing\n",
    "        h,c =self.encoder(src_idxs)\n",
    "        logits,_,_=self.decoder(tgt_input_idxs, h,c)\n",
    "        return logits\n",
    "\n",
    "\n",
    "#Instantiate and move to device\n",
    "encoder = Encoder(input_vocab_size, embed_dim, latent_dim)\n",
    "decoder = Decoder(target_vocab_size, embed_dim, latent_dim)\n",
    "model =Seq2Seq(encoder, decoder).to(device)\n",
    "\n",
    "# Loss and optimizer\n",
    "PAD_IDX =None\n",
    "criterion = nn.CrossEntropyLoss(ignore_index=PAD_IDX) if PAD_IDX is not None else nn.CrossEntropyLoss()\n",
    "optimizer = torch.optim.Adam(model.parameters(), lr=0.001)\n",
    "\n",
    "print(model)"
   ]
  },
  {
   "cell_type": "markdown",
   "id": "662bfb7f-38db-402b-9f27-766defa816f1",
   "metadata": {},
   "source": [
    "---\n",
    "\n",
    "## Train model"
   ]
  },
  {
   "cell_type": "code",
   "execution_count": 19,
   "id": "8156af48-8467-4678-b303-71c235608247",
   "metadata": {},
   "outputs": [
    {
     "name": "stderr",
     "output_type": "stream",
     "text": [
      "Epoch 1/100: 100%|██████████████████████████████████████████████████████████████████| 157/157 [00:00<00:00, 171.16it/s]\n"
     ]
    },
    {
     "name": "stdout",
     "output_type": "stream",
     "text": [
      "Epoch 1 | Loss: 0.8973\n"
     ]
    },
    {
     "name": "stderr",
     "output_type": "stream",
     "text": [
      "Epoch 2/100: 100%|██████████████████████████████████████████████████████████████████| 157/157 [00:00<00:00, 192.48it/s]\n"
     ]
    },
    {
     "name": "stdout",
     "output_type": "stream",
     "text": [
      "Epoch 2 | Loss: 0.5402\n"
     ]
    },
    {
     "name": "stderr",
     "output_type": "stream",
     "text": [
      "Epoch 3/100: 100%|██████████████████████████████████████████████████████████████████| 157/157 [00:00<00:00, 200.36it/s]\n"
     ]
    },
    {
     "name": "stdout",
     "output_type": "stream",
     "text": [
      "Epoch 3 | Loss: 0.4538\n"
     ]
    },
    {
     "name": "stderr",
     "output_type": "stream",
     "text": [
      "Epoch 4/100: 100%|██████████████████████████████████████████████████████████████████| 157/157 [00:00<00:00, 201.46it/s]\n"
     ]
    },
    {
     "name": "stdout",
     "output_type": "stream",
     "text": [
      "Epoch 4 | Loss: 0.4037\n"
     ]
    },
    {
     "name": "stderr",
     "output_type": "stream",
     "text": [
      "Epoch 5/100: 100%|██████████████████████████████████████████████████████████████████| 157/157 [00:00<00:00, 199.63it/s]\n"
     ]
    },
    {
     "name": "stdout",
     "output_type": "stream",
     "text": [
      "Epoch 5 | Loss: 0.3691\n"
     ]
    },
    {
     "name": "stderr",
     "output_type": "stream",
     "text": [
      "Epoch 6/100: 100%|██████████████████████████████████████████████████████████████████| 157/157 [00:00<00:00, 200.37it/s]\n"
     ]
    },
    {
     "name": "stdout",
     "output_type": "stream",
     "text": [
      "Epoch 6 | Loss: 0.3401\n"
     ]
    },
    {
     "name": "stderr",
     "output_type": "stream",
     "text": [
      "Epoch 7/100: 100%|██████████████████████████████████████████████████████████████████| 157/157 [00:00<00:00, 200.77it/s]\n"
     ]
    },
    {
     "name": "stdout",
     "output_type": "stream",
     "text": [
      "Epoch 7 | Loss: 0.3165\n"
     ]
    },
    {
     "name": "stderr",
     "output_type": "stream",
     "text": [
      "Epoch 8/100: 100%|██████████████████████████████████████████████████████████████████| 157/157 [00:00<00:00, 200.50it/s]\n"
     ]
    },
    {
     "name": "stdout",
     "output_type": "stream",
     "text": [
      "Epoch 8 | Loss: 0.2959\n"
     ]
    },
    {
     "name": "stderr",
     "output_type": "stream",
     "text": [
      "Epoch 9/100: 100%|██████████████████████████████████████████████████████████████████| 157/157 [00:00<00:00, 201.91it/s]\n"
     ]
    },
    {
     "name": "stdout",
     "output_type": "stream",
     "text": [
      "Epoch 9 | Loss: 0.2775\n"
     ]
    },
    {
     "name": "stderr",
     "output_type": "stream",
     "text": [
      "Epoch 10/100: 100%|█████████████████████████████████████████████████████████████████| 157/157 [00:00<00:00, 198.52it/s]\n"
     ]
    },
    {
     "name": "stdout",
     "output_type": "stream",
     "text": [
      "Epoch 10 | Loss: 0.2605\n"
     ]
    },
    {
     "name": "stderr",
     "output_type": "stream",
     "text": [
      "Epoch 11/100: 100%|█████████████████████████████████████████████████████████████████| 157/157 [00:00<00:00, 199.30it/s]\n"
     ]
    },
    {
     "name": "stdout",
     "output_type": "stream",
     "text": [
      "Epoch 11 | Loss: 0.2456\n"
     ]
    },
    {
     "name": "stderr",
     "output_type": "stream",
     "text": [
      "Epoch 12/100: 100%|█████████████████████████████████████████████████████████████████| 157/157 [00:00<00:00, 200.74it/s]\n"
     ]
    },
    {
     "name": "stdout",
     "output_type": "stream",
     "text": [
      "Epoch 12 | Loss: 0.2317\n"
     ]
    },
    {
     "name": "stderr",
     "output_type": "stream",
     "text": [
      "Epoch 13/100: 100%|█████████████████████████████████████████████████████████████████| 157/157 [00:00<00:00, 202.20it/s]\n"
     ]
    },
    {
     "name": "stdout",
     "output_type": "stream",
     "text": [
      "Epoch 13 | Loss: 0.2192\n"
     ]
    },
    {
     "name": "stderr",
     "output_type": "stream",
     "text": [
      "Epoch 14/100: 100%|█████████████████████████████████████████████████████████████████| 157/157 [00:00<00:00, 201.54it/s]\n"
     ]
    },
    {
     "name": "stdout",
     "output_type": "stream",
     "text": [
      "Epoch 14 | Loss: 0.2064\n"
     ]
    },
    {
     "name": "stderr",
     "output_type": "stream",
     "text": [
      "Epoch 15/100: 100%|█████████████████████████████████████████████████████████████████| 157/157 [00:00<00:00, 197.49it/s]\n"
     ]
    },
    {
     "name": "stdout",
     "output_type": "stream",
     "text": [
      "Epoch 15 | Loss: 0.1951\n"
     ]
    },
    {
     "name": "stderr",
     "output_type": "stream",
     "text": [
      "Epoch 16/100: 100%|█████████████████████████████████████████████████████████████████| 157/157 [00:00<00:00, 203.60it/s]\n"
     ]
    },
    {
     "name": "stdout",
     "output_type": "stream",
     "text": [
      "Epoch 16 | Loss: 0.1853\n"
     ]
    },
    {
     "name": "stderr",
     "output_type": "stream",
     "text": [
      "Epoch 17/100: 100%|█████████████████████████████████████████████████████████████████| 157/157 [00:00<00:00, 202.53it/s]\n"
     ]
    },
    {
     "name": "stdout",
     "output_type": "stream",
     "text": [
      "Epoch 17 | Loss: 0.1747\n"
     ]
    },
    {
     "name": "stderr",
     "output_type": "stream",
     "text": [
      "Epoch 18/100: 100%|█████████████████████████████████████████████████████████████████| 157/157 [00:00<00:00, 201.45it/s]\n"
     ]
    },
    {
     "name": "stdout",
     "output_type": "stream",
     "text": [
      "Epoch 18 | Loss: 0.1649\n"
     ]
    },
    {
     "name": "stderr",
     "output_type": "stream",
     "text": [
      "Epoch 19/100: 100%|█████████████████████████████████████████████████████████████████| 157/157 [00:00<00:00, 197.54it/s]\n"
     ]
    },
    {
     "name": "stdout",
     "output_type": "stream",
     "text": [
      "Epoch 19 | Loss: 0.1561\n"
     ]
    },
    {
     "name": "stderr",
     "output_type": "stream",
     "text": [
      "Epoch 20/100: 100%|█████████████████████████████████████████████████████████████████| 157/157 [00:00<00:00, 199.77it/s]\n"
     ]
    },
    {
     "name": "stdout",
     "output_type": "stream",
     "text": [
      "Epoch 20 | Loss: 0.1478\n"
     ]
    },
    {
     "name": "stderr",
     "output_type": "stream",
     "text": [
      "Epoch 21/100: 100%|█████████████████████████████████████████████████████████████████| 157/157 [00:00<00:00, 204.82it/s]\n"
     ]
    },
    {
     "name": "stdout",
     "output_type": "stream",
     "text": [
      "Epoch 21 | Loss: 0.1400\n"
     ]
    },
    {
     "name": "stderr",
     "output_type": "stream",
     "text": [
      "Epoch 22/100: 100%|█████████████████████████████████████████████████████████████████| 157/157 [00:00<00:00, 202.06it/s]\n"
     ]
    },
    {
     "name": "stdout",
     "output_type": "stream",
     "text": [
      "Epoch 22 | Loss: 0.1318\n"
     ]
    },
    {
     "name": "stderr",
     "output_type": "stream",
     "text": [
      "Epoch 23/100: 100%|█████████████████████████████████████████████████████████████████| 157/157 [00:00<00:00, 202.82it/s]\n"
     ]
    },
    {
     "name": "stdout",
     "output_type": "stream",
     "text": [
      "Epoch 23 | Loss: 0.1250\n"
     ]
    },
    {
     "name": "stderr",
     "output_type": "stream",
     "text": [
      "Epoch 24/100: 100%|█████████████████████████████████████████████████████████████████| 157/157 [00:00<00:00, 202.97it/s]\n"
     ]
    },
    {
     "name": "stdout",
     "output_type": "stream",
     "text": [
      "Epoch 24 | Loss: 0.1192\n"
     ]
    },
    {
     "name": "stderr",
     "output_type": "stream",
     "text": [
      "Epoch 25/100: 100%|█████████████████████████████████████████████████████████████████| 157/157 [00:00<00:00, 202.64it/s]\n"
     ]
    },
    {
     "name": "stdout",
     "output_type": "stream",
     "text": [
      "Epoch 25 | Loss: 0.1128\n"
     ]
    },
    {
     "name": "stderr",
     "output_type": "stream",
     "text": [
      "Epoch 26/100: 100%|█████████████████████████████████████████████████████████████████| 157/157 [00:00<00:00, 203.94it/s]\n"
     ]
    },
    {
     "name": "stdout",
     "output_type": "stream",
     "text": [
      "Epoch 26 | Loss: 0.1071\n"
     ]
    },
    {
     "name": "stderr",
     "output_type": "stream",
     "text": [
      "Epoch 27/100: 100%|█████████████████████████████████████████████████████████████████| 157/157 [00:00<00:00, 203.97it/s]\n"
     ]
    },
    {
     "name": "stdout",
     "output_type": "stream",
     "text": [
      "Epoch 27 | Loss: 0.1019\n"
     ]
    },
    {
     "name": "stderr",
     "output_type": "stream",
     "text": [
      "Epoch 28/100: 100%|█████████████████████████████████████████████████████████████████| 157/157 [00:00<00:00, 204.06it/s]\n"
     ]
    },
    {
     "name": "stdout",
     "output_type": "stream",
     "text": [
      "Epoch 28 | Loss: 0.0966\n"
     ]
    },
    {
     "name": "stderr",
     "output_type": "stream",
     "text": [
      "Epoch 29/100: 100%|█████████████████████████████████████████████████████████████████| 157/157 [00:00<00:00, 201.92it/s]\n"
     ]
    },
    {
     "name": "stdout",
     "output_type": "stream",
     "text": [
      "Epoch 29 | Loss: 0.0913\n"
     ]
    },
    {
     "name": "stderr",
     "output_type": "stream",
     "text": [
      "Epoch 30/100: 100%|█████████████████████████████████████████████████████████████████| 157/157 [00:00<00:00, 201.92it/s]\n"
     ]
    },
    {
     "name": "stdout",
     "output_type": "stream",
     "text": [
      "Epoch 30 | Loss: 0.0870\n"
     ]
    },
    {
     "name": "stderr",
     "output_type": "stream",
     "text": [
      "Epoch 31/100: 100%|█████████████████████████████████████████████████████████████████| 157/157 [00:00<00:00, 201.47it/s]\n"
     ]
    },
    {
     "name": "stdout",
     "output_type": "stream",
     "text": [
      "Epoch 31 | Loss: 0.0830\n"
     ]
    },
    {
     "name": "stderr",
     "output_type": "stream",
     "text": [
      "Epoch 32/100: 100%|█████████████████████████████████████████████████████████████████| 157/157 [00:00<00:00, 198.11it/s]\n"
     ]
    },
    {
     "name": "stdout",
     "output_type": "stream",
     "text": [
      "Epoch 32 | Loss: 0.0795\n"
     ]
    },
    {
     "name": "stderr",
     "output_type": "stream",
     "text": [
      "Epoch 33/100: 100%|█████████████████████████████████████████████████████████████████| 157/157 [00:00<00:00, 203.06it/s]\n"
     ]
    },
    {
     "name": "stdout",
     "output_type": "stream",
     "text": [
      "Epoch 33 | Loss: 0.0754\n"
     ]
    },
    {
     "name": "stderr",
     "output_type": "stream",
     "text": [
      "Epoch 34/100: 100%|█████████████████████████████████████████████████████████████████| 157/157 [00:00<00:00, 201.48it/s]\n"
     ]
    },
    {
     "name": "stdout",
     "output_type": "stream",
     "text": [
      "Epoch 34 | Loss: 0.0726\n"
     ]
    },
    {
     "name": "stderr",
     "output_type": "stream",
     "text": [
      "Epoch 35/100: 100%|█████████████████████████████████████████████████████████████████| 157/157 [00:00<00:00, 201.09it/s]\n"
     ]
    },
    {
     "name": "stdout",
     "output_type": "stream",
     "text": [
      "Epoch 35 | Loss: 0.0700\n"
     ]
    },
    {
     "name": "stderr",
     "output_type": "stream",
     "text": [
      "Epoch 36/100: 100%|█████████████████████████████████████████████████████████████████| 157/157 [00:00<00:00, 200.20it/s]\n"
     ]
    },
    {
     "name": "stdout",
     "output_type": "stream",
     "text": [
      "Epoch 36 | Loss: 0.0665\n"
     ]
    },
    {
     "name": "stderr",
     "output_type": "stream",
     "text": [
      "Epoch 37/100: 100%|█████████████████████████████████████████████████████████████████| 157/157 [00:00<00:00, 201.53it/s]\n"
     ]
    },
    {
     "name": "stdout",
     "output_type": "stream",
     "text": [
      "Epoch 37 | Loss: 0.0640\n"
     ]
    },
    {
     "name": "stderr",
     "output_type": "stream",
     "text": [
      "Epoch 38/100: 100%|█████████████████████████████████████████████████████████████████| 157/157 [00:00<00:00, 201.99it/s]\n"
     ]
    },
    {
     "name": "stdout",
     "output_type": "stream",
     "text": [
      "Epoch 38 | Loss: 0.0615\n"
     ]
    },
    {
     "name": "stderr",
     "output_type": "stream",
     "text": [
      "Epoch 39/100: 100%|█████████████████████████████████████████████████████████████████| 157/157 [00:00<00:00, 200.85it/s]\n"
     ]
    },
    {
     "name": "stdout",
     "output_type": "stream",
     "text": [
      "Epoch 39 | Loss: 0.0590\n"
     ]
    },
    {
     "name": "stderr",
     "output_type": "stream",
     "text": [
      "Epoch 40/100: 100%|█████████████████████████████████████████████████████████████████| 157/157 [00:00<00:00, 204.06it/s]\n"
     ]
    },
    {
     "name": "stdout",
     "output_type": "stream",
     "text": [
      "Epoch 40 | Loss: 0.0575\n"
     ]
    },
    {
     "name": "stderr",
     "output_type": "stream",
     "text": [
      "Epoch 41/100: 100%|█████████████████████████████████████████████████████████████████| 157/157 [00:00<00:00, 202.53it/s]\n"
     ]
    },
    {
     "name": "stdout",
     "output_type": "stream",
     "text": [
      "Epoch 41 | Loss: 0.0555\n"
     ]
    },
    {
     "name": "stderr",
     "output_type": "stream",
     "text": [
      "Epoch 42/100: 100%|█████████████████████████████████████████████████████████████████| 157/157 [00:00<00:00, 202.70it/s]\n"
     ]
    },
    {
     "name": "stdout",
     "output_type": "stream",
     "text": [
      "Epoch 42 | Loss: 0.0538\n"
     ]
    },
    {
     "name": "stderr",
     "output_type": "stream",
     "text": [
      "Epoch 43/100: 100%|█████████████████████████████████████████████████████████████████| 157/157 [00:00<00:00, 202.91it/s]\n"
     ]
    },
    {
     "name": "stdout",
     "output_type": "stream",
     "text": [
      "Epoch 43 | Loss: 0.0523\n"
     ]
    },
    {
     "name": "stderr",
     "output_type": "stream",
     "text": [
      "Epoch 44/100: 100%|█████████████████████████████████████████████████████████████████| 157/157 [00:00<00:00, 201.44it/s]\n"
     ]
    },
    {
     "name": "stdout",
     "output_type": "stream",
     "text": [
      "Epoch 44 | Loss: 0.0508\n"
     ]
    },
    {
     "name": "stderr",
     "output_type": "stream",
     "text": [
      "Epoch 45/100: 100%|█████████████████████████████████████████████████████████████████| 157/157 [00:00<00:00, 200.56it/s]\n"
     ]
    },
    {
     "name": "stdout",
     "output_type": "stream",
     "text": [
      "Epoch 45 | Loss: 0.0487\n"
     ]
    },
    {
     "name": "stderr",
     "output_type": "stream",
     "text": [
      "Epoch 46/100: 100%|█████████████████████████████████████████████████████████████████| 157/157 [00:00<00:00, 202.62it/s]\n"
     ]
    },
    {
     "name": "stdout",
     "output_type": "stream",
     "text": [
      "Epoch 46 | Loss: 0.0484\n"
     ]
    },
    {
     "name": "stderr",
     "output_type": "stream",
     "text": [
      "Epoch 47/100: 100%|█████████████████████████████████████████████████████████████████| 157/157 [00:00<00:00, 204.33it/s]\n"
     ]
    },
    {
     "name": "stdout",
     "output_type": "stream",
     "text": [
      "Epoch 47 | Loss: 0.0471\n"
     ]
    },
    {
     "name": "stderr",
     "output_type": "stream",
     "text": [
      "Epoch 48/100: 100%|█████████████████████████████████████████████████████████████████| 157/157 [00:00<00:00, 203.42it/s]\n"
     ]
    },
    {
     "name": "stdout",
     "output_type": "stream",
     "text": [
      "Epoch 48 | Loss: 0.0457\n"
     ]
    },
    {
     "name": "stderr",
     "output_type": "stream",
     "text": [
      "Epoch 49/100: 100%|█████████████████████████████████████████████████████████████████| 157/157 [00:00<00:00, 202.84it/s]\n"
     ]
    },
    {
     "name": "stdout",
     "output_type": "stream",
     "text": [
      "Epoch 49 | Loss: 0.0446\n"
     ]
    },
    {
     "name": "stderr",
     "output_type": "stream",
     "text": [
      "Epoch 50/100: 100%|█████████████████████████████████████████████████████████████████| 157/157 [00:00<00:00, 203.49it/s]\n"
     ]
    },
    {
     "name": "stdout",
     "output_type": "stream",
     "text": [
      "Epoch 50 | Loss: 0.0438\n"
     ]
    },
    {
     "name": "stderr",
     "output_type": "stream",
     "text": [
      "Epoch 51/100: 100%|█████████████████████████████████████████████████████████████████| 157/157 [00:00<00:00, 203.82it/s]\n"
     ]
    },
    {
     "name": "stdout",
     "output_type": "stream",
     "text": [
      "Epoch 51 | Loss: 0.0430\n"
     ]
    },
    {
     "name": "stderr",
     "output_type": "stream",
     "text": [
      "Epoch 52/100: 100%|█████████████████████████████████████████████████████████████████| 157/157 [00:00<00:00, 201.16it/s]\n"
     ]
    },
    {
     "name": "stdout",
     "output_type": "stream",
     "text": [
      "Epoch 52 | Loss: 0.0419\n"
     ]
    },
    {
     "name": "stderr",
     "output_type": "stream",
     "text": [
      "Epoch 53/100: 100%|█████████████████████████████████████████████████████████████████| 157/157 [00:00<00:00, 203.72it/s]\n"
     ]
    },
    {
     "name": "stdout",
     "output_type": "stream",
     "text": [
      "Epoch 53 | Loss: 0.0421\n"
     ]
    },
    {
     "name": "stderr",
     "output_type": "stream",
     "text": [
      "Epoch 54/100: 100%|█████████████████████████████████████████████████████████████████| 157/157 [00:00<00:00, 202.35it/s]\n"
     ]
    },
    {
     "name": "stdout",
     "output_type": "stream",
     "text": [
      "Epoch 54 | Loss: 0.0411\n"
     ]
    },
    {
     "name": "stderr",
     "output_type": "stream",
     "text": [
      "Epoch 55/100: 100%|█████████████████████████████████████████████████████████████████| 157/157 [00:00<00:00, 204.24it/s]\n"
     ]
    },
    {
     "name": "stdout",
     "output_type": "stream",
     "text": [
      "Epoch 55 | Loss: 0.0407\n"
     ]
    },
    {
     "name": "stderr",
     "output_type": "stream",
     "text": [
      "Epoch 56/100: 100%|█████████████████████████████████████████████████████████████████| 157/157 [00:00<00:00, 204.44it/s]\n"
     ]
    },
    {
     "name": "stdout",
     "output_type": "stream",
     "text": [
      "Epoch 56 | Loss: 0.0402\n"
     ]
    },
    {
     "name": "stderr",
     "output_type": "stream",
     "text": [
      "Epoch 57/100: 100%|█████████████████████████████████████████████████████████████████| 157/157 [00:00<00:00, 204.12it/s]\n"
     ]
    },
    {
     "name": "stdout",
     "output_type": "stream",
     "text": [
      "Epoch 57 | Loss: 0.0389\n"
     ]
    },
    {
     "name": "stderr",
     "output_type": "stream",
     "text": [
      "Epoch 58/100: 100%|█████████████████████████████████████████████████████████████████| 157/157 [00:00<00:00, 198.95it/s]\n"
     ]
    },
    {
     "name": "stdout",
     "output_type": "stream",
     "text": [
      "Epoch 58 | Loss: 0.0387\n"
     ]
    },
    {
     "name": "stderr",
     "output_type": "stream",
     "text": [
      "Epoch 59/100: 100%|█████████████████████████████████████████████████████████████████| 157/157 [00:00<00:00, 203.28it/s]\n"
     ]
    },
    {
     "name": "stdout",
     "output_type": "stream",
     "text": [
      "Epoch 59 | Loss: 0.0396\n"
     ]
    },
    {
     "name": "stderr",
     "output_type": "stream",
     "text": [
      "Epoch 60/100: 100%|█████████████████████████████████████████████████████████████████| 157/157 [00:00<00:00, 204.13it/s]\n"
     ]
    },
    {
     "name": "stdout",
     "output_type": "stream",
     "text": [
      "Epoch 60 | Loss: 0.0382\n"
     ]
    },
    {
     "name": "stderr",
     "output_type": "stream",
     "text": [
      "Epoch 61/100: 100%|█████████████████████████████████████████████████████████████████| 157/157 [00:00<00:00, 205.42it/s]\n"
     ]
    },
    {
     "name": "stdout",
     "output_type": "stream",
     "text": [
      "Epoch 61 | Loss: 0.0375\n"
     ]
    },
    {
     "name": "stderr",
     "output_type": "stream",
     "text": [
      "Epoch 62/100: 100%|█████████████████████████████████████████████████████████████████| 157/157 [00:00<00:00, 203.83it/s]\n"
     ]
    },
    {
     "name": "stdout",
     "output_type": "stream",
     "text": [
      "Epoch 62 | Loss: 0.0376\n"
     ]
    },
    {
     "name": "stderr",
     "output_type": "stream",
     "text": [
      "Epoch 63/100: 100%|█████████████████████████████████████████████████████████████████| 157/157 [00:00<00:00, 202.79it/s]\n"
     ]
    },
    {
     "name": "stdout",
     "output_type": "stream",
     "text": [
      "Epoch 63 | Loss: 0.0366\n"
     ]
    },
    {
     "name": "stderr",
     "output_type": "stream",
     "text": [
      "Epoch 64/100: 100%|█████████████████████████████████████████████████████████████████| 157/157 [00:00<00:00, 202.12it/s]\n"
     ]
    },
    {
     "name": "stdout",
     "output_type": "stream",
     "text": [
      "Epoch 64 | Loss: 0.0365\n"
     ]
    },
    {
     "name": "stderr",
     "output_type": "stream",
     "text": [
      "Epoch 65/100: 100%|█████████████████████████████████████████████████████████████████| 157/157 [00:00<00:00, 204.10it/s]\n"
     ]
    },
    {
     "name": "stdout",
     "output_type": "stream",
     "text": [
      "Epoch 65 | Loss: 0.0359\n"
     ]
    },
    {
     "name": "stderr",
     "output_type": "stream",
     "text": [
      "Epoch 66/100: 100%|█████████████████████████████████████████████████████████████████| 157/157 [00:00<00:00, 203.98it/s]\n"
     ]
    },
    {
     "name": "stdout",
     "output_type": "stream",
     "text": [
      "Epoch 66 | Loss: 0.0359\n"
     ]
    },
    {
     "name": "stderr",
     "output_type": "stream",
     "text": [
      "Epoch 67/100: 100%|█████████████████████████████████████████████████████████████████| 157/157 [00:00<00:00, 204.13it/s]\n"
     ]
    },
    {
     "name": "stdout",
     "output_type": "stream",
     "text": [
      "Epoch 67 | Loss: 0.0352\n"
     ]
    },
    {
     "name": "stderr",
     "output_type": "stream",
     "text": [
      "Epoch 68/100: 100%|█████████████████████████████████████████████████████████████████| 157/157 [00:00<00:00, 201.00it/s]\n"
     ]
    },
    {
     "name": "stdout",
     "output_type": "stream",
     "text": [
      "Epoch 68 | Loss: 0.0346\n"
     ]
    },
    {
     "name": "stderr",
     "output_type": "stream",
     "text": [
      "Epoch 69/100: 100%|█████████████████████████████████████████████████████████████████| 157/157 [00:00<00:00, 203.14it/s]\n"
     ]
    },
    {
     "name": "stdout",
     "output_type": "stream",
     "text": [
      "Epoch 69 | Loss: 0.0354\n"
     ]
    },
    {
     "name": "stderr",
     "output_type": "stream",
     "text": [
      "Epoch 70/100: 100%|█████████████████████████████████████████████████████████████████| 157/157 [00:00<00:00, 202.33it/s]\n"
     ]
    },
    {
     "name": "stdout",
     "output_type": "stream",
     "text": [
      "Epoch 70 | Loss: 0.0356\n"
     ]
    },
    {
     "name": "stderr",
     "output_type": "stream",
     "text": [
      "Epoch 71/100: 100%|█████████████████████████████████████████████████████████████████| 157/157 [00:00<00:00, 202.08it/s]\n"
     ]
    },
    {
     "name": "stdout",
     "output_type": "stream",
     "text": [
      "Epoch 71 | Loss: 0.0349\n"
     ]
    },
    {
     "name": "stderr",
     "output_type": "stream",
     "text": [
      "Epoch 72/100: 100%|█████████████████████████████████████████████████████████████████| 157/157 [00:00<00:00, 202.03it/s]\n"
     ]
    },
    {
     "name": "stdout",
     "output_type": "stream",
     "text": [
      "Epoch 72 | Loss: 0.0344\n"
     ]
    },
    {
     "name": "stderr",
     "output_type": "stream",
     "text": [
      "Epoch 73/100: 100%|█████████████████████████████████████████████████████████████████| 157/157 [00:00<00:00, 202.99it/s]\n"
     ]
    },
    {
     "name": "stdout",
     "output_type": "stream",
     "text": [
      "Epoch 73 | Loss: 0.0339\n"
     ]
    },
    {
     "name": "stderr",
     "output_type": "stream",
     "text": [
      "Epoch 74/100: 100%|█████████████████████████████████████████████████████████████████| 157/157 [00:00<00:00, 202.33it/s]\n"
     ]
    },
    {
     "name": "stdout",
     "output_type": "stream",
     "text": [
      "Epoch 74 | Loss: 0.0337\n"
     ]
    },
    {
     "name": "stderr",
     "output_type": "stream",
     "text": [
      "Epoch 75/100: 100%|█████████████████████████████████████████████████████████████████| 157/157 [00:00<00:00, 204.23it/s]\n"
     ]
    },
    {
     "name": "stdout",
     "output_type": "stream",
     "text": [
      "Epoch 75 | Loss: 0.0340\n"
     ]
    },
    {
     "name": "stderr",
     "output_type": "stream",
     "text": [
      "Epoch 76/100: 100%|█████████████████████████████████████████████████████████████████| 157/157 [00:00<00:00, 204.13it/s]\n"
     ]
    },
    {
     "name": "stdout",
     "output_type": "stream",
     "text": [
      "Epoch 76 | Loss: 0.0332\n"
     ]
    },
    {
     "name": "stderr",
     "output_type": "stream",
     "text": [
      "Epoch 77/100: 100%|█████████████████████████████████████████████████████████████████| 157/157 [00:00<00:00, 205.19it/s]\n"
     ]
    },
    {
     "name": "stdout",
     "output_type": "stream",
     "text": [
      "Epoch 77 | Loss: 0.0338\n"
     ]
    },
    {
     "name": "stderr",
     "output_type": "stream",
     "text": [
      "Epoch 78/100: 100%|█████████████████████████████████████████████████████████████████| 157/157 [00:00<00:00, 202.82it/s]\n"
     ]
    },
    {
     "name": "stdout",
     "output_type": "stream",
     "text": [
      "Epoch 78 | Loss: 0.0336\n"
     ]
    },
    {
     "name": "stderr",
     "output_type": "stream",
     "text": [
      "Epoch 79/100: 100%|█████████████████████████████████████████████████████████████████| 157/157 [00:00<00:00, 203.59it/s]\n"
     ]
    },
    {
     "name": "stdout",
     "output_type": "stream",
     "text": [
      "Epoch 79 | Loss: 0.0331\n"
     ]
    },
    {
     "name": "stderr",
     "output_type": "stream",
     "text": [
      "Epoch 80/100: 100%|█████████████████████████████████████████████████████████████████| 157/157 [00:00<00:00, 202.03it/s]\n"
     ]
    },
    {
     "name": "stdout",
     "output_type": "stream",
     "text": [
      "Epoch 80 | Loss: 0.0330\n"
     ]
    },
    {
     "name": "stderr",
     "output_type": "stream",
     "text": [
      "Epoch 81/100: 100%|█████████████████████████████████████████████████████████████████| 157/157 [00:00<00:00, 204.54it/s]\n"
     ]
    },
    {
     "name": "stdout",
     "output_type": "stream",
     "text": [
      "Epoch 81 | Loss: 0.0326\n"
     ]
    },
    {
     "name": "stderr",
     "output_type": "stream",
     "text": [
      "Epoch 82/100: 100%|█████████████████████████████████████████████████████████████████| 157/157 [00:00<00:00, 204.37it/s]\n"
     ]
    },
    {
     "name": "stdout",
     "output_type": "stream",
     "text": [
      "Epoch 82 | Loss: 0.0323\n"
     ]
    },
    {
     "name": "stderr",
     "output_type": "stream",
     "text": [
      "Epoch 83/100: 100%|█████████████████████████████████████████████████████████████████| 157/157 [00:00<00:00, 203.85it/s]\n"
     ]
    },
    {
     "name": "stdout",
     "output_type": "stream",
     "text": [
      "Epoch 83 | Loss: 0.0324\n"
     ]
    },
    {
     "name": "stderr",
     "output_type": "stream",
     "text": [
      "Epoch 84/100: 100%|█████████████████████████████████████████████████████████████████| 157/157 [00:00<00:00, 200.44it/s]\n"
     ]
    },
    {
     "name": "stdout",
     "output_type": "stream",
     "text": [
      "Epoch 84 | Loss: 0.0316\n"
     ]
    },
    {
     "name": "stderr",
     "output_type": "stream",
     "text": [
      "Epoch 85/100: 100%|█████████████████████████████████████████████████████████████████| 157/157 [00:00<00:00, 205.11it/s]\n"
     ]
    },
    {
     "name": "stdout",
     "output_type": "stream",
     "text": [
      "Epoch 85 | Loss: 0.0320\n"
     ]
    },
    {
     "name": "stderr",
     "output_type": "stream",
     "text": [
      "Epoch 86/100: 100%|█████████████████████████████████████████████████████████████████| 157/157 [00:00<00:00, 205.09it/s]\n"
     ]
    },
    {
     "name": "stdout",
     "output_type": "stream",
     "text": [
      "Epoch 86 | Loss: 0.0323\n"
     ]
    },
    {
     "name": "stderr",
     "output_type": "stream",
     "text": [
      "Epoch 87/100: 100%|█████████████████████████████████████████████████████████████████| 157/157 [00:00<00:00, 198.72it/s]\n"
     ]
    },
    {
     "name": "stdout",
     "output_type": "stream",
     "text": [
      "Epoch 87 | Loss: 0.0313\n"
     ]
    },
    {
     "name": "stderr",
     "output_type": "stream",
     "text": [
      "Epoch 88/100: 100%|█████████████████████████████████████████████████████████████████| 157/157 [00:00<00:00, 205.08it/s]\n"
     ]
    },
    {
     "name": "stdout",
     "output_type": "stream",
     "text": [
      "Epoch 88 | Loss: 0.0310\n"
     ]
    },
    {
     "name": "stderr",
     "output_type": "stream",
     "text": [
      "Epoch 89/100: 100%|█████████████████████████████████████████████████████████████████| 157/157 [00:00<00:00, 204.64it/s]\n"
     ]
    },
    {
     "name": "stdout",
     "output_type": "stream",
     "text": [
      "Epoch 89 | Loss: 0.0310\n"
     ]
    },
    {
     "name": "stderr",
     "output_type": "stream",
     "text": [
      "Epoch 90/100: 100%|█████████████████████████████████████████████████████████████████| 157/157 [00:00<00:00, 201.84it/s]\n"
     ]
    },
    {
     "name": "stdout",
     "output_type": "stream",
     "text": [
      "Epoch 90 | Loss: 0.0311\n"
     ]
    },
    {
     "name": "stderr",
     "output_type": "stream",
     "text": [
      "Epoch 91/100: 100%|█████████████████████████████████████████████████████████████████| 157/157 [00:00<00:00, 204.14it/s]\n"
     ]
    },
    {
     "name": "stdout",
     "output_type": "stream",
     "text": [
      "Epoch 91 | Loss: 0.0314\n"
     ]
    },
    {
     "name": "stderr",
     "output_type": "stream",
     "text": [
      "Epoch 92/100: 100%|█████████████████████████████████████████████████████████████████| 157/157 [00:00<00:00, 203.14it/s]\n"
     ]
    },
    {
     "name": "stdout",
     "output_type": "stream",
     "text": [
      "Epoch 92 | Loss: 0.0317\n"
     ]
    },
    {
     "name": "stderr",
     "output_type": "stream",
     "text": [
      "Epoch 93/100: 100%|█████████████████████████████████████████████████████████████████| 157/157 [00:00<00:00, 205.30it/s]\n"
     ]
    },
    {
     "name": "stdout",
     "output_type": "stream",
     "text": [
      "Epoch 93 | Loss: 0.0309\n"
     ]
    },
    {
     "name": "stderr",
     "output_type": "stream",
     "text": [
      "Epoch 94/100: 100%|█████████████████████████████████████████████████████████████████| 157/157 [00:00<00:00, 205.09it/s]\n"
     ]
    },
    {
     "name": "stdout",
     "output_type": "stream",
     "text": [
      "Epoch 94 | Loss: 0.0309\n"
     ]
    },
    {
     "name": "stderr",
     "output_type": "stream",
     "text": [
      "Epoch 95/100: 100%|█████████████████████████████████████████████████████████████████| 157/157 [00:00<00:00, 206.21it/s]\n"
     ]
    },
    {
     "name": "stdout",
     "output_type": "stream",
     "text": [
      "Epoch 95 | Loss: 0.0312\n"
     ]
    },
    {
     "name": "stderr",
     "output_type": "stream",
     "text": [
      "Epoch 96/100: 100%|█████████████████████████████████████████████████████████████████| 157/157 [00:00<00:00, 204.84it/s]\n"
     ]
    },
    {
     "name": "stdout",
     "output_type": "stream",
     "text": [
      "Epoch 96 | Loss: 0.0303\n"
     ]
    },
    {
     "name": "stderr",
     "output_type": "stream",
     "text": [
      "Epoch 97/100: 100%|█████████████████████████████████████████████████████████████████| 157/157 [00:00<00:00, 203.41it/s]\n"
     ]
    },
    {
     "name": "stdout",
     "output_type": "stream",
     "text": [
      "Epoch 97 | Loss: 0.0305\n"
     ]
    },
    {
     "name": "stderr",
     "output_type": "stream",
     "text": [
      "Epoch 98/100: 100%|█████████████████████████████████████████████████████████████████| 157/157 [00:00<00:00, 205.95it/s]\n"
     ]
    },
    {
     "name": "stdout",
     "output_type": "stream",
     "text": [
      "Epoch 98 | Loss: 0.0301\n"
     ]
    },
    {
     "name": "stderr",
     "output_type": "stream",
     "text": [
      "Epoch 99/100: 100%|█████████████████████████████████████████████████████████████████| 157/157 [00:00<00:00, 205.43it/s]\n"
     ]
    },
    {
     "name": "stdout",
     "output_type": "stream",
     "text": [
      "Epoch 99 | Loss: 0.0309\n"
     ]
    },
    {
     "name": "stderr",
     "output_type": "stream",
     "text": [
      "Epoch 100/100: 100%|████████████████████████████████████████████████████████████████| 157/157 [00:00<00:00, 205.92it/s]"
     ]
    },
    {
     "name": "stdout",
     "output_type": "stream",
     "text": [
      "Epoch 100 | Loss: 0.0303\n",
      "Model saved to seq2seq_model.pth\n"
     ]
    },
    {
     "name": "stderr",
     "output_type": "stream",
     "text": [
      "\n"
     ]
    }
   ],
   "source": [
    "for epoch in range(1, epochs+ 1):\n",
    "    model.train()\n",
    "    total_loss =0\n",
    "\n",
    "    for src, tgt_input, tgt_target in tqdm(train_dataloader,desc=f\"Epoch {epoch}/{epochs}\"):\n",
    "        src = src.to(device)\n",
    "        tgt_input =tgt_input.to(device)\n",
    "        tgt_target =tgt_target.to(device)\n",
    "\n",
    "        optimizer.zero_grad()\n",
    "\n",
    "        # Forward pass\n",
    "        output_logits = model(src, tgt_input) #(batch, tgt_len, vocab_size)\n",
    "\n",
    "        # Reshape for loss, mergeing batch & time dims\n",
    "        output_logits = output_logits.reshape(-1,target_vocab_size)\n",
    "        tgt_target = tgt_target.reshape(-1)\n",
    "\n",
    "        # Compute loss\n",
    "        loss = criterion(output_logits,tgt_target)\n",
    "        loss.backward()\n",
    "\n",
    "        optimizer.step()\n",
    "\n",
    "        total_loss+=loss.item()\n",
    "\n",
    "    avg_loss = total_loss/len(train_dataloader)\n",
    "    print(f\"Epoch {epoch} | Loss: {avg_loss:.4f}\")\n",
    "\n",
    "# Save model\n",
    "torch.save(model.state_dict(),\"seq2seq_model.pth\")\n",
    "print(\"Model saved to seq2seq_model.pth\")"
   ]
  },
  {
   "cell_type": "markdown",
   "id": "b20a7f47-7304-468b-831c-b8632d5dce87",
   "metadata": {},
   "source": [
    "---\n",
    "\n",
    "## Run inference (sampling)"
   ]
  },
  {
   "cell_type": "code",
   "execution_count": 20,
   "id": "d0adc878-acc6-4da1-8d6d-90c4bbddf1d4",
   "metadata": {},
   "outputs": [],
   "source": [
    "def decode_sequence(model, src_seq, max_target_len=100):\n",
    "    model.eval()\n",
    "    \n",
    "    # encode the input sequence to get initial hidden and cell state\n",
    "    with torch.no_grad():\n",
    "        h,c=model.encoder(src_seq)\n",
    "\n",
    "        # Start token as the first decoder input\n",
    "        start_idx=target_char_to_idx[START_TOKEN]\n",
    "        decoder_input=torch.tensor([[start_idx]],dtype=torch.long,device=device)\n",
    "\n",
    "        decoded_chars=[]\n",
    "\n",
    "        for _ in range(max_target_len):\n",
    "            # Pass throughthe  decoder for 1 step\n",
    "            output,h,c =model.decoder(decoder_input,h,c)\n",
    "\n",
    "            # Output is (batch=1, seq_len=1, vocab_size) to take last step\n",
    "            output_char_idx=output.argmax(2).item()\n",
    "            sampled_char=target_idx_to_char[output_char_idx]\n",
    "\n",
    "            # Stop if end token\n",
    "            if sampled_char ==END_TOKEN:\n",
    "                break\n",
    "\n",
    "            decoded_chars.append(sampled_char)\n",
    "\n",
    "            # Use predicted char as next input\n",
    "            decoder_input = torch.tensor([[output_char_idx]],dtype=torch.long,device=device)\n",
    "\n",
    "    return \"\".join(decoded_chars)"
   ]
  },
  {
   "cell_type": "code",
   "execution_count": 21,
   "id": "0a02851d-7592-4bc2-bc36-3d316df6c422",
   "metadata": {},
   "outputs": [],
   "source": [
    "def prepare_input_sentence(sentence):\n",
    "    #Converting string to tensor of indices and add batch dimension\n",
    "    idxs = [input_char_to_idx[ch] for ch in sentence]\n",
    "    tensor = torch.tensor(idxs, dtype=torch.long).unsqueeze(0).to(device)\n",
    "    return tensor"
   ]
  },
  {
   "cell_type": "code",
   "execution_count": 22,
   "id": "e72a3037-d12b-4245-ac3b-c32b35d66b45",
   "metadata": {},
   "outputs": [
    {
     "name": "stdout",
     "output_type": "stream",
     "text": [
      "EN: I admire you.\n",
      "PREDICTED: Je t'admire.\n",
      "REFERENCE: \tJe vous admire.\n",
      "\n",
      "----------------------------------------\n",
      "EN: Many thanks.\n",
      "PREDICTED: Merci mille fois !\n",
      "REFERENCE: \tMille mercis !\n",
      "\n",
      "----------------------------------------\n",
      "EN: Are you ready?\n",
      "PREDICTED: Es-tu prêt ?\n",
      "REFERENCE: \tEst-ce que vous êtes prêts ?\n",
      "\n",
      "----------------------------------------\n",
      "EN: Shame on you.\n",
      "PREDICTED: Honte à toi.\n",
      "REFERENCE: \tHonte à toi.\n",
      "\n",
      "----------------------------------------\n",
      "EN: They lied.\n",
      "PREDICTED: Ils se sont en avance.\n",
      "REFERENCE: \tIls ont menti.\n",
      "\n",
      "----------------------------------------\n",
      "EN: We yawned.\n",
      "PREDICTED: On a eu de la folle.\n",
      "REFERENCE: \tNous avons bâillé.\n",
      "\n",
      "----------------------------------------\n",
      "EN: Relax.\n",
      "PREDICTED: lenu un piège.\n",
      "REFERENCE: \tDétends-toi !\n",
      "\n",
      "----------------------------------------\n",
      "EN: I'm a girl.\n",
      "PREDICTED: Je suis paresseux.\n",
      "REFERENCE: \tJe suis une fille.\n",
      "\n",
      "----------------------------------------\n",
      "EN: Tom is OK now.\n",
      "PREDICTED: Thomas est OK maintenant.\n",
      "REFERENCE: \tThomas est OK maintenant.\n",
      "\n",
      "----------------------------------------\n",
      "EN: I'm speaking.\n",
      "PREDICTED: Je suis en train de payer.\n",
      "REFERENCE: \tJe suis en train de parler.\n",
      "\n",
      "----------------------------------------\n",
      "EN: Can he see us?\n",
      "PREDICTED: Est-il en mesure de nous voir ?\n",
      "REFERENCE: \tPeut-il nous voir ?\n",
      "\n",
      "----------------------------------------\n",
      "EN: Duck!\n",
      "PREDICTED: iese !\n",
      "REFERENCE: \tÀ terre !\n",
      "\n",
      "----------------------------------------\n",
      "EN: I'll attend.\n",
      "PREDICTED: Je serai présent.\n",
      "REFERENCE: \tJe serai présent.\n",
      "\n",
      "----------------------------------------\n",
      "EN: I can't see.\n",
      "PREDICTED: Je ne sais pas dehors.\n",
      "REFERENCE: \tJe ne vois rien.\n",
      "\n",
      "----------------------------------------\n",
      "EN: It's wrong.\n",
      "PREDICTED: C'est iroité.\n",
      "REFERENCE: \tC'est faux.\n",
      "\n",
      "----------------------------------------\n",
      "EN: I needed it.\n",
      "PREDICTED: J'ai besoin de colle.\n",
      "REFERENCE: \tJ'en avais besoin.\n",
      "\n",
      "----------------------------------------\n",
      "EN: What is it?\n",
      "PREDICTED: Qu'est-ce ?\n",
      "REFERENCE: \tQu'est-ce que c'est ?\n",
      "\n",
      "----------------------------------------\n",
      "EN: Tom's alive.\n",
      "PREDICTED: Tom est excitant.\n",
      "REFERENCE: \tTom est en vie.\n",
      "\n",
      "----------------------------------------\n",
      "EN: I must object.\n",
      "PREDICTED: Il me faut émettre une objection.\n",
      "REFERENCE: \tIl me faut émettre une objection.\n",
      "\n",
      "----------------------------------------\n",
      "EN: Are you busy?\n",
      "PREDICTED: Es-tu occupé ?\n",
      "REFERENCE: \tÊtes-vous occupé ?\n",
      "\n",
      "----------------------------------------\n"
     ]
    }
   ],
   "source": [
    "for _ in range(20):\n",
    "    idx = random.randint(0, len(english_sentences) - 1)\n",
    "    test_sentence = english_sentences[idx]\n",
    "    input_tensor = prepare_input_sentence(test_sentence)\n",
    "    translation = decode_sequence(model, input_tensor)\n",
    "\n",
    "    print(f\"EN: {test_sentence}\")\n",
    "    print(f\"PREDICTED: {translation}\")\n",
    "    print(f\"REFERENCE: {french_sentences[idx]}\")\n",
    "    print(\"-\" * 40)"
   ]
  },
  {
   "cell_type": "code",
   "execution_count": null,
   "id": "e05bb40f-b93a-4256-9ef1-a13d011c7954",
   "metadata": {},
   "outputs": [],
   "source": []
  }
 ],
 "metadata": {
  "kernelspec": {
   "display_name": "Python 3 (ipykernel)",
   "language": "python",
   "name": "python3"
  },
  "language_info": {
   "codemirror_mode": {
    "name": "ipython",
    "version": 3
   },
   "file_extension": ".py",
   "mimetype": "text/x-python",
   "name": "python",
   "nbconvert_exporter": "python",
   "pygments_lexer": "ipython3",
   "version": "3.10.11"
  }
 },
 "nbformat": 4,
 "nbformat_minor": 5
}
