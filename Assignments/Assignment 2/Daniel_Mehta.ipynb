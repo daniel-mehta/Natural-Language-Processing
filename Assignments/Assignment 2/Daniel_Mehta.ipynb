{
 "cells": [
  {
   "cell_type": "markdown",
   "id": "18ce83a0-9805-40b6-ac81-2565933568f7",
   "metadata": {},
   "source": [
    "# Assignment 2\n",
    "### Daniel Mehta"
   ]
  },
  {
   "cell_type": "markdown",
   "id": "1a4ace4b-36dc-4367-b987-5deb4cd8ce3f",
   "metadata": {},
   "source": [
    "## Exercise 1: [POS (Part-of-Speech) Tagging with Hidden Markov Model](https://www.mygreatlearning.com/blog/pos-tagging/)"
   ]
  },
  {
   "cell_type": "code",
   "execution_count": 1,
   "id": "0d0da7e7-1033-42fd-b6bf-db9e5118a69b",
   "metadata": {},
   "outputs": [],
   "source": [
    "import nltk\n",
    "import numpy as np\n",
    "import pandas as pd\n",
    "import random\n",
    "from sklearn.model_selection import train_test_split\n",
    "import pprint, time"
   ]
  },
  {
   "cell_type": "code",
   "execution_count": null,
   "id": "450d15e9-fcc7-48fe-8f61-74cf922702b2",
   "metadata": {},
   "outputs": [],
   "source": [
    "nltk.download('treebank')\n",
    "nltk.download('universal_tagset')\n",
    "nltk_data = list(nltk.corpus.treebank.tagged_sents(tagset='universal'))\n",
    "for sent in nltk_data[:2]:\n",
    "  for tuple in sent:\n",
    "    print(tuple)"
   ]
  },
  {
   "cell_type": "code",
   "execution_count": null,
   "id": "b08a223f-f77a-4fb2-82df-07ab804606f8",
   "metadata": {},
   "outputs": [],
   "source": [
    "#Split training and validation\n",
    "train_set,test_set =train_test_split(nltk_data,train_size=0.80,test_size=0.20,random_state = 101)"
   ]
  },
  {
   "cell_type": "code",
   "execution_count": null,
   "id": "7b572687-ff24-439b-a8d0-2a3e40cbc95f",
   "metadata": {},
   "outputs": [],
   "source": [
    "train_tagged_words = [ tup for sent in train_set for tup in sent ]\n",
    "test_tagged_words = [ tup for sent in test_set for tup in sent ]\n",
    "print(len(train_tagged_words))\n",
    "print(len(test_tagged_words))"
   ]
  },
  {
   "cell_type": "code",
   "execution_count": null,
   "id": "f9f074df-d400-4c12-aa42-05c83dc59cf8",
   "metadata": {},
   "outputs": [],
   "source": [
    "train_tagged_words[:5]"
   ]
  },
  {
   "cell_type": "code",
   "execution_count": null,
   "id": "0e2d785b-6a3f-4df1-9939-b7c2ff6f7ea3",
   "metadata": {},
   "outputs": [],
   "source": [
    "tags = {tag for word,tag in train_tagged_words}\n",
    "print(len(tags))\n",
    "print(tags)"
   ]
  },
  {
   "cell_type": "code",
   "execution_count": null,
   "id": "cccf1b44-de10-4f7a-8b53-b2b5a27beb46",
   "metadata": {},
   "outputs": [],
   "source": [
    "vocab = {word for word,tag in train_tagged_words}"
   ]
  },
  {
   "cell_type": "code",
   "execution_count": null,
   "id": "03a46411-85f1-4bb5-82d2-12b5aa4b4ef2",
   "metadata": {},
   "outputs": [],
   "source": [
    "#compute emission probability\n",
    "def word_given_tag(word, tag, train_bag = train_tagged_words):\n",
    "    tag_list = [pair for pair in train_bag if pair[1]==tag]\n",
    "    count_tag = len(tag_list)\n",
    "    w_given_tag_list = [pair[0] for pair in tag_list if pair[0]==word]\n",
    "    count_w_given_tag = len(w_given_tag_list)\n",
    "     \n",
    "    return (count_w_given_tag, count_tag)"
   ]
  },
  {
   "cell_type": "code",
   "execution_count": null,
   "id": "f2b0ebf7-64e1-4997-9e22-5a09a2001738",
   "metadata": {},
   "outputs": [],
   "source": [
    "# compute transition probability\n",
    "def t2_given_t1(t2, t1, train_bag = train_tagged_words):\n",
    "    tags = [pair[1] for pair in train_bag]\n",
    "    count_t1 = len([t for t in tags if t==t1])\n",
    "    count_t2_t1 = 0\n",
    "    for index in range(len(tags)-1):\n",
    "        if tags[index]==t1 and tags[index+1]== t2:\n",
    "            count_t2_t1 += 1\n",
    "    return (count_t2_t1, count_t1)"
   ]
  },
  {
   "cell_type": "code",
   "execution_count": null,
   "id": "b626e5c5-8888-4105-b262-285f912572ca",
   "metadata": {},
   "outputs": [],
   "source": [
    "tags_matrix = np.zeros((len(tags), len(tags)), dtype='float32')\n",
    "for i, t1 in enumerate(list(tags)):\n",
    "    for j, t2 in enumerate(list(tags)): \n",
    "        tags_matrix[i, j] = t2_given_t1(t2, t1)[0]/t2_given_t1(t2, t1)[1]\n",
    " \n",
    "print(tags_matrix)"
   ]
  },
  {
   "cell_type": "code",
   "execution_count": null,
   "id": "048b826e-e345-4fb7-a8c7-e73ec8c78357",
   "metadata": {},
   "outputs": [],
   "source": [
    "tags_df = pd.DataFrame(tags_matrix, columns = list(tags), index=list(tags))\n",
    "display(tags_df)"
   ]
  },
  {
   "cell_type": "code",
   "execution_count": null,
   "id": "3f34b703-e52a-4c66-b47f-22ee27ff7396",
   "metadata": {},
   "outputs": [],
   "source": [
    "def Viterbi(words, train_bag = train_tagged_words):\n",
    "    state = []\n",
    "    T = list(set([pair[1] for pair in train_bag]))\n",
    "     \n",
    "    for key, word in enumerate(words):\n",
    "        p = [] \n",
    "        for tag in T:\n",
    "            if key == 0:\n",
    "                transition_p = tags_df.loc['.', tag]\n",
    "            else:\n",
    "                transition_p = tags_df.loc[state[-1], tag]\n",
    "                 \n",
    "            # compute emission and  probability states\n",
    "            emission_p = word_given_tag(words[key], tag)[0]/word_given_tag(words[key], tag)[1]\n",
    "            state_probability = emission_p * transition_p    \n",
    "            p.append(state_probability)\n",
    "             \n",
    "        pmax = max(p)\n",
    "        \n",
    "        state_max = T[p.index(pmax)] \n",
    "        state.append(state_max)\n",
    "    return list(zip(words, state))"
   ]
  },
  {
   "cell_type": "code",
   "execution_count": null,
   "id": "482482d5-8e6e-4beb-a4b6-a39be7a31f76",
   "metadata": {},
   "outputs": [],
   "source": [
    "random.seed(42)\n",
    "rndom = [random.randint(1,len(test_set)) for x in range(10)]\n",
    "test_run = [test_set[i] for i in rndom]\n",
    "test_run_base = [tup for sent in test_run for tup in sent]\n",
    "test_tagged_words = [tup[0] for sent in test_run for tup in sent]"
   ]
  },
  {
   "cell_type": "code",
   "execution_count": null,
   "id": "022dfa2a-55f9-4f4a-85da-9bd38b6cfdd5",
   "metadata": {},
   "outputs": [],
   "source": [
    "start = time.time()\n",
    "tagged_seq = Viterbi(test_tagged_words)\n",
    "end = time.time()\n",
    "difference = end-start\n",
    "print(\"Time taken in seconds: \", difference)\n",
    "\n",
    "check = [i for i, j in zip(tagged_seq, test_run_base) if i == j] \n",
    "accuracy = len(check)/len(tagged_seq)\n",
    "print('Viterbi Algorithm Accuracy: ',accuracy*100)"
   ]
  },
  {
   "cell_type": "code",
   "execution_count": null,
   "id": "b9b73376-4e98-4e0b-b5d4-b515f9efabf2",
   "metadata": {},
   "outputs": [],
   "source": [
    "#Takes too long to run\n",
    "'''\n",
    "test_tagged_words = [tup for sent in test_set for tup in sent]\n",
    "test_untagged_words = [tup[0] for sent in test_set for tup in sent]\n",
    "test_untagged_words\n",
    "\n",
    "start = time.time()\n",
    "tagged_seq = Viterbi(test_untagged_words)\n",
    "end = time.time()\n",
    "difference = end-start\n",
    " \n",
    "print(\"Time taken in seconds: \", difference)\n",
    "\n",
    "check = [i for i, j in zip(test_tagged_words, test_untagged_words) if i == j] \n",
    " \n",
    "accuracy = len(check)/len(tagged_seq)\n",
    "print('Viterbi Algorithm Accuracy: ',accuracy*100)\n",
    "'''"
   ]
  },
  {
   "cell_type": "code",
   "execution_count": null,
   "id": "ef65a3a8-6791-4947-87c4-cf3e90921b98",
   "metadata": {},
   "outputs": [],
   "source": [
    "patterns = [\n",
    "    (r'.*ing$', 'VERB'),              # gerund\n",
    "    (r'.*ed$', 'VERB'),               # past tense \n",
    "    (r'.*es$', 'VERB'),               # verb    \n",
    "    (r'.*\\'s$', 'NOUN'),              # possessive nouns\n",
    "    (r'.*s$', 'NOUN'),                # plural nouns\n",
    "    (r'\\*T?\\*?-[0-9]+$', 'X'),        # X\n",
    "    (r'^-?[0-9]+(.[0-9]+)?$', 'NUM'), # cardinal numbers\n",
    "    (r'.*', 'NOUN')                   # nouns\n",
    "]\n",
    "\n",
    "rule_based_tagger = nltk.RegexpTagger(patterns)"
   ]
  },
  {
   "cell_type": "code",
   "execution_count": null,
   "id": "4520ee91-2841-4fe1-b9cd-12f871bd6d6a",
   "metadata": {},
   "outputs": [],
   "source": [
    "def Viterbi_rule_based(words, train_bag = train_tagged_words):\n",
    "    state = []\n",
    "    T = list(set([pair[1] for pair in train_bag]))\n",
    "     \n",
    "    for key, word in enumerate(words):\n",
    "        p = [] \n",
    "        for tag in T:\n",
    "            if key == 0:\n",
    "                transition_p = tags_df.loc['.', tag]\n",
    "            else:\n",
    "                transition_p = tags_df.loc[state[-1], tag]\n",
    "                 \n",
    "            # compute emission and  probability states\n",
    "            emission_p = word_given_tag(words[key], tag)[0]/word_given_tag(words[key], tag)[1]\n",
    "            state_probability = emission_p * transition_p    \n",
    "            p.append(state_probability)\n",
    "             \n",
    "        pmax = max(p)\n",
    "        state_max = rule_based_tagger.tag([word])[0][1]       \n",
    "        \n",
    "         \n",
    "        if(pmax==0):\n",
    "            state_max = rule_based_tagger.tag([word])[0][1]\n",
    "        else:\n",
    "            if state_max != 'X':\n",
    "                state_max = T[p.index(pmax)]                \n",
    "             \n",
    "         \n",
    "        state.append(state_max)\n",
    "    return list(zip(words, state))"
   ]
  },
  {
   "cell_type": "code",
   "execution_count": null,
   "id": "82063bf5-8249-488f-ab1c-c86a831689e5",
   "metadata": {},
   "outputs": [],
   "source": [
    "start = time.time()\n",
    "tagged_seq = Viterbi_rule_based(test_tagged_words)\n",
    "end = time.time()\n",
    "difference = end-start\n",
    " \n",
    "print(\"Time taken in seconds: \", difference)\n",
    "\n",
    "check = [i for i, j in zip(tagged_seq, test_run_base) if i == j] \n",
    " \n",
    "accuracy = len(check)/len(tagged_seq)\n",
    "print('Viterbi Algorithm Accuracy: ',accuracy*100)"
   ]
  },
  {
   "cell_type": "code",
   "execution_count": null,
   "id": "171412d4-a882-445d-96e9-4eaf2157fe74",
   "metadata": {},
   "outputs": [],
   "source": [
    "test_sent=\"Will can see Marry\"\n",
    "pred_tags_rule=Viterbi_rule_based(test_sent.split())\n",
    "pred_tags_withoutRules= Viterbi(test_sent.split())\n",
    "print(pred_tags_rule)\n",
    "print(pred_tags_withoutRules)"
   ]
  },
  {
   "cell_type": "markdown",
   "id": "3a732b74-fbc2-4f32-8898-0d5cdda44f65",
   "metadata": {},
   "source": [
    "## Exercise 2:\n",
    "\n",
    "- Find a new text dataset\n",
    "- Convert it into csv format\n",
    "- Redo the same exercise\n",
    "\n",
    "\n",
    "### a & b)"
   ]
  },
  {
   "cell_type": "code",
   "execution_count": 5,
   "id": "c3037b7b-26e0-48a3-9bc3-e1a97fd55459",
   "metadata": {},
   "outputs": [],
   "source": [
    "import nltk.corpus"
   ]
  },
  {
   "cell_type": "code",
   "execution_count": 9,
   "id": "f83c81fc-8752-4d89-96a5-233230036ef3",
   "metadata": {},
   "outputs": [
    {
     "name": "stderr",
     "output_type": "stream",
     "text": [
      "[nltk_data] Downloading package brown to\n",
      "[nltk_data]     /Users/danielmehta/nltk_data...\n",
      "[nltk_data]   Package brown is already up-to-date!\n",
      "[nltk_data] Downloading package universal_tagset to\n",
      "[nltk_data]     /Users/danielmehta/nltk_data...\n",
      "[nltk_data]   Package universal_tagset is already up-to-date!\n"
     ]
    },
    {
     "data": {
      "text/plain": [
       "True"
      ]
     },
     "execution_count": 9,
     "metadata": {},
     "output_type": "execute_result"
    }
   ],
   "source": [
    "nltk.download('brown')\n",
    "nltk.download('universal_tagset')"
   ]
  },
  {
   "cell_type": "code",
   "execution_count": 11,
   "id": "a3e1664f-dbdc-4c93-930f-f0e363e3c62d",
   "metadata": {},
   "outputs": [
    {
     "data": {
      "text/plain": [
       "[[('The', 'DET'), ('Fulton', 'NOUN'), ('County', 'NOUN'), ('Grand', 'ADJ'), ('Jury', 'NOUN'), ('said', 'VERB'), ('Friday', 'NOUN'), ('an', 'DET'), ('investigation', 'NOUN'), ('of', 'ADP'), (\"Atlanta's\", 'NOUN'), ('recent', 'ADJ'), ('primary', 'NOUN'), ('election', 'NOUN'), ('produced', 'VERB'), ('``', '.'), ('no', 'DET'), ('evidence', 'NOUN'), (\"''\", '.'), ('that', 'ADP'), ('any', 'DET'), ('irregularities', 'NOUN'), ('took', 'VERB'), ('place', 'NOUN'), ('.', '.')], [('The', 'DET'), ('jury', 'NOUN'), ('further', 'ADV'), ('said', 'VERB'), ('in', 'ADP'), ('term-end', 'NOUN'), ('presentments', 'NOUN'), ('that', 'ADP'), ('the', 'DET'), ('City', 'NOUN'), ('Executive', 'ADJ'), ('Committee', 'NOUN'), (',', '.'), ('which', 'DET'), ('had', 'VERB'), ('over-all', 'ADJ'), ('charge', 'NOUN'), ('of', 'ADP'), ('the', 'DET'), ('election', 'NOUN'), (',', '.'), ('``', '.'), ('deserves', 'VERB'), ('the', 'DET'), ('praise', 'NOUN'), ('and', 'CONJ'), ('thanks', 'NOUN'), ('of', 'ADP'), ('the', 'DET'), ('City', 'NOUN'), ('of', 'ADP'), ('Atlanta', 'NOUN'), (\"''\", '.'), ('for', 'ADP'), ('the', 'DET'), ('manner', 'NOUN'), ('in', 'ADP'), ('which', 'DET'), ('the', 'DET'), ('election', 'NOUN'), ('was', 'VERB'), ('conducted', 'VERB'), ('.', '.')], ...]"
      ]
     },
     "execution_count": 11,
     "metadata": {},
     "output_type": "execute_result"
    }
   ],
   "source": [
    "nltk.corpus.brown.tagged_sents(tagset='universal')"
   ]
  },
  {
   "cell_type": "code",
   "execution_count": 13,
   "id": "3db7b379-d438-4ec4-8782-fd28d7e488b8",
   "metadata": {},
   "outputs": [],
   "source": [
    "brown_tagged = nltk.corpus.brown.tagged_sents(tagset='universal')[:500]"
   ]
  },
  {
   "cell_type": "code",
   "execution_count": 17,
   "id": "1eea23c6-8f99-46ec-bff6-2e015fe91bfc",
   "metadata": {},
   "outputs": [],
   "source": [
    "flattened = [(word, tag) for sent in brown_tagged for (word, tag) in sent]"
   ]
  },
  {
   "cell_type": "code",
   "execution_count": 19,
   "id": "c183eef7-8847-47e8-94e5-e35737887673",
   "metadata": {},
   "outputs": [],
   "source": [
    "df = pd.DataFrame(flattened, columns=['Word', 'Tag'])\n",
    "df.to_csv('brown_pos.csv', index=False)"
   ]
  },
  {
   "cell_type": "markdown",
   "id": "83652ab2-2ad2-432b-bb9f-94c953105644",
   "metadata": {},
   "source": [
    "### c)"
   ]
  },
  {
   "cell_type": "code",
   "execution_count": 55,
   "id": "3fb43ce5-e632-4892-9d6a-c8c8f1a96944",
   "metadata": {},
   "outputs": [],
   "source": [
    "#Split training and validation 80/20\n",
    "train_sents, test_sents = train_test_split(brown_tagged, train_size=0.8, random_state=5501)"
   ]
  },
  {
   "cell_type": "code",
   "execution_count": 23,
   "id": "24eecb35-83f5-4a33-9541-32836412b443",
   "metadata": {},
   "outputs": [],
   "source": [
    "train_tagged_words = [tup for sent in train_sents for tup in sent]\n",
    "test_tagged_words = [tup for sent in test_sents for tup in sent]"
   ]
  },
  {
   "cell_type": "code",
   "execution_count": 25,
   "id": "e1ffa9f9-415c-45c1-b3ec-842e7806c1bb",
   "metadata": {},
   "outputs": [
    {
     "name": "stdout",
     "output_type": "stream",
     "text": [
      "Train: 9492\n",
      "Test: 2219\n"
     ]
    }
   ],
   "source": [
    "print(\"Train:\", len(train_tagged_words))\n",
    "print(\"Test:\", len(test_tagged_words))"
   ]
  },
  {
   "cell_type": "code",
   "execution_count": 27,
   "id": "b657b71d-14c7-47b0-95d7-274700c60f8c",
   "metadata": {},
   "outputs": [],
   "source": [
    "def word_given_tag(word, tag, train_bag = train_tagged_words):\n",
    "    tag_list = [pair for pair in train_bag if pair[1]==tag]\n",
    "    count_tag = len(tag_list)\n",
    "    w_given_tag_list = [pair[0] for pair in tag_list if pair[0]==word]\n",
    "    count_w_given_tag = len(w_given_tag_list)\n",
    "     \n",
    "    return (count_w_given_tag, count_tag)"
   ]
  },
  {
   "cell_type": "code",
   "execution_count": 29,
   "id": "f85bfbe2-6f1d-45e7-ad83-4e15ca635fff",
   "metadata": {},
   "outputs": [],
   "source": [
    "def t2_given_t1(t2, t1, train_bag = train_tagged_words):\n",
    "    tags = [pair[1] for pair in train_bag]\n",
    "    count_t1 = len([t for t in tags if t==t1])\n",
    "    count_t2_t1 = 0\n",
    "    for index in range(len(tags)-1):\n",
    "        if tags[index]==t1 and tags[index+1]== t2:\n",
    "            count_t2_t1 += 1\n",
    "    return (count_t2_t1, count_t1)"
   ]
  },
  {
   "cell_type": "code",
   "execution_count": 33,
   "id": "594b094d-5605-4c9f-81ce-90b6e523ed58",
   "metadata": {},
   "outputs": [],
   "source": [
    "tags = sorted(list({tag for _, tag in train_tagged_words}))"
   ]
  },
  {
   "cell_type": "code",
   "execution_count": 35,
   "id": "2838e198-dd4d-48bb-ba37-ba8ca32b5fcb",
   "metadata": {},
   "outputs": [
    {
     "name": "stdout",
     "output_type": "stream",
     "text": [
      "[[0.10965795 0.04426559 0.09959759 0.04627766 0.05633803 0.18812877\n",
      "  0.23138833 0.02615694 0.07645875 0.02012073 0.10060363 0.        ]\n",
      " [0.05322581 0.06129032 0.0483871  0.00322581 0.02741935 0.00322581\n",
      "  0.75       0.01129032 0.         0.02580645 0.01451613 0.0016129 ]\n",
      " [0.01071723 0.08244023 0.02555647 0.00741962 0.0016488  0.4286892\n",
      "  0.30008245 0.05441055 0.03050289 0.00824402 0.05028854 0.        ]\n",
      " [0.08       0.12       0.15272728 0.06909091 0.01454545 0.06909091\n",
      "  0.02181818 0.00727273 0.04       0.04       0.38545454 0.        ]\n",
      " [0.00921659 0.14285715 0.05990783 0.05529954 0.         0.16129032\n",
      "  0.33179724 0.01382488 0.04147466 0.02304148 0.16129032 0.        ]\n",
      " [0.01358696 0.21014492 0.01086957 0.00905797 0.         0.00543478\n",
      "  0.6512681  0.02173913 0.00724638 0.00271739 0.06793478 0.        ]\n",
      " [0.22210708 0.017962   0.23039724 0.01692573 0.03937824 0.01761658\n",
      "  0.25423142 0.00725389 0.01139896 0.02901554 0.1537133  0.        ]\n",
      " [0.14857143 0.10285714 0.14857143 0.00571429 0.04       0.02857143\n",
      "  0.41714287 0.06285714 0.01714286 0.00571429 0.02285714 0.        ]\n",
      " [0.06493507 0.004329   0.05194805 0.04761905 0.00865801 0.02164502\n",
      "  0.         0.         0.01298701 0.01298701 0.7748918  0.        ]\n",
      " [0.03846154 0.00854701 0.06837607 0.02136752 0.0042735  0.04273504\n",
      "  0.03846154 0.         0.         0.0042735  0.77350426 0.        ]\n",
      " [0.06984334 0.04503917 0.17297651 0.07245431 0.00913838 0.17167102\n",
      "  0.14360313 0.00979112 0.03328982 0.05221932 0.21997389 0.        ]\n",
      " [0.         0.         0.         0.         0.         0.\n",
      "  0.5        0.         0.         0.         0.         0.5       ]]\n"
     ]
    }
   ],
   "source": [
    "tags_matrix = np.zeros((len(tags), len(tags)), dtype='float32')\n",
    "for i, t1 in enumerate(list(tags)):\n",
    "    for j, t2 in enumerate(list(tags)): \n",
    "        tags_matrix[i, j] = t2_given_t1(t2, t1)[0]/t2_given_t1(t2, t1)[1]\n",
    " \n",
    "print(tags_matrix)"
   ]
  },
  {
   "cell_type": "code",
   "execution_count": 39,
   "id": "cbecf7fd-2b8b-4264-bdfa-06752ab0c144",
   "metadata": {},
   "outputs": [
    {
     "name": "stdout",
     "output_type": "stream",
     "text": [
      "             .       ADJ       ADP       ADV      CONJ       DET      NOUN  \\\n",
      ".     0.109658  0.044266  0.099598  0.046278  0.056338  0.188129  0.231388   \n",
      "ADJ   0.053226  0.061290  0.048387  0.003226  0.027419  0.003226  0.750000   \n",
      "ADP   0.010717  0.082440  0.025556  0.007420  0.001649  0.428689  0.300082   \n",
      "ADV   0.080000  0.120000  0.152727  0.069091  0.014545  0.069091  0.021818   \n",
      "CONJ  0.009217  0.142857  0.059908  0.055300  0.000000  0.161290  0.331797   \n",
      "DET   0.013587  0.210145  0.010870  0.009058  0.000000  0.005435  0.651268   \n",
      "NOUN  0.222107  0.017962  0.230397  0.016926  0.039378  0.017617  0.254231   \n",
      "NUM   0.148571  0.102857  0.148571  0.005714  0.040000  0.028571  0.417143   \n",
      "PRON  0.064935  0.004329  0.051948  0.047619  0.008658  0.021645  0.000000   \n",
      "PRT   0.038462  0.008547  0.068376  0.021368  0.004274  0.042735  0.038462   \n",
      "VERB  0.069843  0.045039  0.172977  0.072454  0.009138  0.171671  0.143603   \n",
      "X     0.000000  0.000000  0.000000  0.000000  0.000000  0.000000  0.500000   \n",
      "\n",
      "           NUM      PRON       PRT      VERB         X  \n",
      ".     0.026157  0.076459  0.020121  0.100604  0.000000  \n",
      "ADJ   0.011290  0.000000  0.025806  0.014516  0.001613  \n",
      "ADP   0.054411  0.030503  0.008244  0.050289  0.000000  \n",
      "ADV   0.007273  0.040000  0.040000  0.385455  0.000000  \n",
      "CONJ  0.013825  0.041475  0.023041  0.161290  0.000000  \n",
      "DET   0.021739  0.007246  0.002717  0.067935  0.000000  \n",
      "NOUN  0.007254  0.011399  0.029016  0.153713  0.000000  \n",
      "NUM   0.062857  0.017143  0.005714  0.022857  0.000000  \n",
      "PRON  0.000000  0.012987  0.012987  0.774892  0.000000  \n",
      "PRT   0.000000  0.000000  0.004274  0.773504  0.000000  \n",
      "VERB  0.009791  0.033290  0.052219  0.219974  0.000000  \n",
      "X     0.000000  0.000000  0.000000  0.000000  0.500000  \n"
     ]
    }
   ],
   "source": [
    "tags_matrix = np.zeros((len(tags), len(tags)), dtype='float32')\n",
    "\n",
    "for i, t1 in enumerate(tags):\n",
    "    for j, t2 in enumerate(tags):\n",
    "        count_t2_t1, count_t1 = t2_given_t1(t2, t1)\n",
    "        if count_t1 == 0:\n",
    "            tags_matrix[i, j] = 0.0\n",
    "        else:\n",
    "            tags_matrix[i, j] = count_t2_t1 / count_t1\n",
    "\n",
    "tags_df = pd.DataFrame(tags_matrix, columns=tags, index=tags)\n",
    "print(tags_df)"
   ]
  },
  {
   "cell_type": "code",
   "execution_count": 41,
   "id": "adb2ee22-9c8a-4f72-8b72-3293af841299",
   "metadata": {},
   "outputs": [],
   "source": [
    "def Viterbi(words, train_bag=train_tagged_words):\n",
    "    state = []\n",
    "    T = list(set([tag for _, tag in train_bag]))\n",
    "\n",
    "    for i, word in enumerate(words):\n",
    "        p = []\n",
    "        for tag in T:\n",
    "            if i == 0:\n",
    "                trans_p = tags_df.loc['.',tag] if '.' in tags_df.index else 1e-6\n",
    "            else:\n",
    "                trans_p = tags_df.loc[state[-1],tag] if state[-1] in tags_df.index else 1e-6\n",
    "\n",
    "            # Emission\n",
    "            emission_count, tag_count = word_given_tag(word, tag)\n",
    "            emission_p = emission_count /tag_count if tag_count > 0 else 1e-6\n",
    "\n",
    "            # Combined prob\n",
    "            state_p = emission_p * trans_p\n",
    "            p.append(state_p)\n",
    "\n",
    "        max_p = max(p)\n",
    "        max_state = T[p.index(max_p)]\n",
    "        state.append(max_state)\n",
    "\n",
    "    return list(zip(words, state))"
   ]
  },
  {
   "cell_type": "code",
   "execution_count": 53,
   "id": "57941293-7861-488b-a20c-44b6b7614399",
   "metadata": {},
   "outputs": [
    {
     "name": "stdout",
     "output_type": "stream",
     "text": [
      "Time taken in seconds: 12.6162\n",
      "Viterbi Algorithm Accuracy: 79.77 %\n"
     ]
    }
   ],
   "source": [
    "start = time.time()\n",
    "\n",
    "test_words = [word for word, _ in test_tagged_words]\n",
    "tagged_seq = Viterbi(test_words)\n",
    "\n",
    "end = time.time()\n",
    "difference = end - start\n",
    "\n",
    "print(\"Time taken in seconds:\", round(difference, 4))\n",
    "correct = [pred for pred, actual in zip(tagged_seq, test_tagged_words) if pred == actual]\n",
    "accuracy = len(correct) / len(tagged_seq)\n",
    "\n",
    "print(\"Viterbi Algorithm Accuracy:\", round(accuracy * 100, 2), \"%\")"
   ]
  },
  {
   "cell_type": "code",
   "execution_count": null,
   "id": "26fa2704-824a-492f-9f79-44817fd761fc",
   "metadata": {},
   "outputs": [],
   "source": []
  }
 ],
 "metadata": {
  "kernelspec": {
   "display_name": "Python (moflow)",
   "language": "python",
   "name": "moflow"
  },
  "language_info": {
   "codemirror_mode": {
    "name": "ipython",
    "version": 3
   },
   "file_extension": ".py",
   "mimetype": "text/x-python",
   "name": "python",
   "nbconvert_exporter": "python",
   "pygments_lexer": "ipython3",
   "version": "3.10.16"
  }
 },
 "nbformat": 4,
 "nbformat_minor": 5
}
