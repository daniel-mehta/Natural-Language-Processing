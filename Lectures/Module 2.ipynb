{
 "cells": [
  {
   "cell_type": "markdown",
   "id": "5d70700d-ac7a-4139-9a8b-e020f7fa2bdf",
   "metadata": {},
   "source": [
    "# Bigram Language Model"
   ]
  },
  {
   "cell_type": "code",
   "execution_count": 6,
   "id": "41220b25-6163-466c-9341-133afb888736",
   "metadata": {},
   "outputs": [
    {
     "name": "stdin",
     "output_type": "stream",
     "text": [
      "Enter a starting word (I, You, The):  You\n"
     ]
    },
    {
     "name": "stdout",
     "output_type": "stream",
     "text": [
      "Generated phrase: You are great\n"
     ]
    }
   ],
   "source": [
    "import random\n",
    "\n",
    "# Define a small dataset of bigram probabilities\n",
    "bigrams = {\n",
    "    (\"I\", \"love\"): [\"dogs\", \"pizza\", \"coding\"],\n",
    "    (\"You\", \"are\"): [\"great\", \"awesome\", \"funny\"],\n",
    "    (\"The\", \"weather\"): [\"is\", \"feels\"],\n",
    "    (\"The\", \"cat\"): [\"sat\", \"jumped\", \"slept\"],\n",
    "}\n",
    "\n",
    "# Prompt the user for an input word\n",
    "word1a = input(\"Enter a starting word (I, You, The): \")\n",
    "\n",
    "if word1a in [bi[0] for bi in bigrams.keys()]:\n",
    "    _, word1b = random.choice([bi for bi in bigrams.keys() if bi[0] == word1a])\n",
    "    word2 = random.choice(bigrams[(word1a, word1b)])\n",
    "    print(f\"Generated phrase: {word1a} {word1b} {word2}\")\n",
    "else:\n",
    "    print(\"No bigram available for that word.\")"
   ]
  },
  {
   "cell_type": "code",
   "execution_count": null,
   "id": "e196a88a-662c-43c6-8079-ab70d75e13a8",
   "metadata": {},
   "outputs": [],
   "source": []
  }
 ],
 "metadata": {
  "kernelspec": {
   "display_name": "Python (moflow)",
   "language": "python",
   "name": "moflow"
  },
  "language_info": {
   "codemirror_mode": {
    "name": "ipython",
    "version": 3
   },
   "file_extension": ".py",
   "mimetype": "text/x-python",
   "name": "python",
   "nbconvert_exporter": "python",
   "pygments_lexer": "ipython3",
   "version": "3.10.16"
  }
 },
 "nbformat": 4,
 "nbformat_minor": 5
}
